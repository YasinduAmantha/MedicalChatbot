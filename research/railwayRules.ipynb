{
 "cells": [
  {
   "cell_type": "code",
   "execution_count": 1,
   "id": "151feb8f",
   "metadata": {},
   "outputs": [
    {
     "data": {
      "text/plain": [
       "'d:\\\\Computer Engineering\\\\8 th semester\\\\final year project\\\\RAG\\\\MedicalChatbot\\\\research'"
      ]
     },
     "execution_count": 1,
     "metadata": {},
     "output_type": "execute_result"
    }
   ],
   "source": [
    "%pwd"
   ]
  },
  {
   "cell_type": "code",
   "execution_count": 2,
   "id": "b6c8ba51",
   "metadata": {},
   "outputs": [],
   "source": [
    "import os\n",
    "os.chdir(\"../\")"
   ]
  },
  {
   "cell_type": "code",
   "execution_count": 3,
   "id": "250f7222",
   "metadata": {},
   "outputs": [
    {
     "data": {
      "text/plain": [
       "'d:\\\\Computer Engineering\\\\8 th semester\\\\final year project\\\\RAG\\\\MedicalChatbot'"
      ]
     },
     "execution_count": 3,
     "metadata": {},
     "output_type": "execute_result"
    }
   ],
   "source": [
    "%pwd"
   ]
  },
  {
   "cell_type": "code",
   "execution_count": 4,
   "id": "f5ba2904",
   "metadata": {},
   "outputs": [
    {
     "name": "stderr",
     "output_type": "stream",
     "text": [
      "c:\\Users\\Amantha\\.conda\\envs\\medibot\\lib\\site-packages\\tqdm\\auto.py:21: TqdmWarning: IProgress not found. Please update jupyter and ipywidgets. See https://ipywidgets.readthedocs.io/en/stable/user_install.html\n",
      "  from .autonotebook import tqdm as notebook_tqdm\n"
     ]
    }
   ],
   "source": [
    "from langchain.document_loaders import PyPDFLoader, DirectoryLoader\n",
    "from langchain.text_splitter import RecursiveCharacterTextSplitter"
   ]
  },
  {
   "cell_type": "markdown",
   "id": "4d370fad",
   "metadata": {},
   "source": [
    "### Download Huggingface embedding model"
   ]
  },
  {
   "cell_type": "code",
   "execution_count": 4,
   "id": "9ec851e8",
   "metadata": {},
   "outputs": [
    {
     "name": "stderr",
     "output_type": "stream",
     "text": [
      "C:\\Users\\Amantha\\AppData\\Local\\Temp\\ipykernel_22708\\1951281138.py:9: LangChainDeprecationWarning: The class `HuggingFaceEmbeddings` was deprecated in LangChain 0.2.2 and will be removed in 1.0. An updated version of the class exists in the :class:`~langchain-huggingface package and should be used instead. To use it run `pip install -U :class:`~langchain-huggingface` and import as `from :class:`~langchain_huggingface import HuggingFaceEmbeddings``.\n",
      "  embeddings = HuggingFaceEmbeddings(\n",
      "c:\\Users\\Amantha\\.conda\\envs\\medibot\\lib\\site-packages\\tqdm\\auto.py:21: TqdmWarning: IProgress not found. Please update jupyter and ipywidgets. See https://ipywidgets.readthedocs.io/en/stable/user_install.html\n",
      "  from .autonotebook import tqdm as notebook_tqdm\n"
     ]
    }
   ],
   "source": [
    "# embedding model\n",
    "from langchain.embeddings import HuggingFaceEmbeddings\n",
    "\n",
    "def download_embeddings():\n",
    "    \"\"\"\n",
    "    Download and return the hugging face embedding model\n",
    "    \"\"\"\n",
    "    model_name = \"sentence-transformers/all-MiniLM-L6-v2\"\n",
    "    embeddings = HuggingFaceEmbeddings(\n",
    "        model_name = model_name\n",
    "    )\n",
    "    return embeddings\n",
    "\n",
    "embedding = download_embeddings()"
   ]
  },
  {
   "cell_type": "markdown",
   "id": "5aceffc8",
   "metadata": {},
   "source": [
    "### Setup pinecone"
   ]
  },
  {
   "cell_type": "code",
   "execution_count": 5,
   "id": "86fb7159",
   "metadata": {},
   "outputs": [],
   "source": [
    "PINECONE_API_KEY = os.getenv(\"PINECONE_API_KEY\")\n",
    "GOOGLE_API_KEY = os.getenv(\"GOOGLE_API_KEY\")\n",
    "\n",
    "os.environ[\"PINECOEN_API_KEY\"] = PINECONE_API_KEY\n",
    "os.environ[\"GOOGLE_API_KEY\"] = GOOGLE_API_KEY"
   ]
  },
  {
   "cell_type": "code",
   "execution_count": 6,
   "id": "dcccdcbb",
   "metadata": {},
   "outputs": [],
   "source": [
    "# import pinecone\n",
    "from pinecone import Pinecone\n",
    "pinecone_api_key = PINECONE_API_KEY\n",
    "\n",
    "# authenticate pinecone account\n",
    "pc = Pinecone(api_key=pinecone_api_key)"
   ]
  },
  {
   "cell_type": "code",
   "execution_count": 7,
   "id": "36a7e96b",
   "metadata": {},
   "outputs": [
    {
     "data": {
      "text/plain": [
       "<pinecone.pinecone.Pinecone at 0x16bede33fd0>"
      ]
     },
     "execution_count": 7,
     "metadata": {},
     "output_type": "execute_result"
    }
   ],
   "source": [
    "pc"
   ]
  },
  {
   "cell_type": "code",
   "execution_count": 8,
   "id": "88c59967",
   "metadata": {},
   "outputs": [
    {
     "name": "stdout",
     "output_type": "stream",
     "text": [
      "✅ Index 'railway-rules-new-v1' is ready for use.\n"
     ]
    }
   ],
   "source": [
    "import os\n",
    "import time\n",
    "from pinecone import Pinecone, ServerlessSpec\n",
    "\n",
    "\n",
    "index_name = \"railway-rules-new-v1\"\n",
    "\n",
    "# Create index if not exists\n",
    "if not pc.has_index(index_name):\n",
    "    pc.create_index(\n",
    "        name=index_name,\n",
    "        dimension=384,  # embedding dimension\n",
    "        metric=\"cosine\",\n",
    "        spec=ServerlessSpec(cloud=\"aws\", region=\"us-east-1\")\n",
    "    )\n",
    "    print(f\"Creating index: {index_name}\")\n",
    "\n",
    "# Wait for index to be ready\n",
    "while not pc.describe_index(index_name).status['ready']:\n",
    "    print(\"⏳ Waiting for index to be ready...\")\n",
    "    time.sleep(2)\n",
    "\n",
    "index = pc.Index(index_name)\n",
    "print(f\"✅ Index '{index_name}' is ready for use.\")\n"
   ]
  },
  {
   "cell_type": "code",
   "execution_count": 9,
   "id": "65e9f8eb",
   "metadata": {},
   "outputs": [],
   "source": [
    "index = pc.Index(\"railway-rules-new-v1\")"
   ]
  },
  {
   "cell_type": "markdown",
   "id": "287b4f38",
   "metadata": {},
   "source": [
    "### Rule set"
   ]
  },
  {
   "cell_type": "code",
   "execution_count": 10,
   "id": "38de6c53",
   "metadata": {},
   "outputs": [],
   "source": [
    "rule_set = [\n",
    "  {\n",
    "    \"id\": \"rule_01\",\n",
    "    \"metadata\": {\n",
    "      \"feature\": \"transaction_complete_time\",\n",
    "      \"category\": \"genuine\",\n",
    "      \"weight\": \"high\",\n",
    "      \"rule_text\": \"If the transaction completion time is greater than 2 minutes, the user behavior strongly aligns with genuine human interaction.\"\n",
    "    }\n",
    "  },\n",
    "  {\n",
    "    \"id\": \"rule_02\",\n",
    "    \"metadata\": {\n",
    "      \"feature\": \"transaction_complete_time\",\n",
    "      \"category\": \"slightly-fraudulent\",\n",
    "      \"weight\": \"medium\",\n",
    "      \"rule_text\": \"If the transaction completion time is between 1 and 2 minutes, the user shows slightly automated or hurried behavior, possibly semi-fraudulent.\"\n",
    "    }\n",
    "  },\n",
    "  {\n",
    "    \"id\": \"rule_03\",\n",
    "    \"metadata\": {\n",
    "      \"feature\": \"transaction_complete_time\",\n",
    "      \"category\": \"fraudulent\",\n",
    "      \"weight\": \"high\",\n",
    "      \"rule_text\": \"If the transaction completion time is below 1 minute, the pattern indicates a high chance of automation or bot usage, hence fraudulent.\"\n",
    "    }\n",
    "  },\n",
    "  {\n",
    "    \"id\": \"rule_04\",\n",
    "    \"metadata\": {\n",
    "      \"feature\": \"avg_transaction_time_28d\",\n",
    "      \"category\": \"genuine\",\n",
    "      \"weight\": \"high\",\n",
    "      \"rule_text\": \"If the user's average transaction time over the last 28 days exceeds 2 minutes, they are more likely a genuine user.\"\n",
    "    }\n",
    "  },\n",
    "  {\n",
    "    \"id\": \"rule_05\",\n",
    "    \"metadata\": {\n",
    "      \"feature\": \"avg_transaction_time_28d\",\n",
    "      \"category\": \"slightly-fraudulent\",\n",
    "      \"weight\": \"medium\",\n",
    "      \"rule_text\": \"If the average transaction time in the last 28 days is between 1 and 2 minutes, the user shows partially automated patterns, slightly towards fraud.\"\n",
    "    }\n",
    "  },\n",
    "  {\n",
    "    \"id\": \"rule_06\",\n",
    "    \"metadata\": {\n",
    "      \"feature\": \"avg_transaction_time_28d\",\n",
    "      \"category\": \"fraudulent\",\n",
    "      \"weight\": \"high\",\n",
    "      \"rule_text\": \"If the average transaction time in the last 28 days is below 1 minute, it strongly suggests automation or bot-like efficiency.\"\n",
    "    }\n",
    "  },\n",
    "  {\n",
    "    \"id\": \"rule_07\",\n",
    "    \"metadata\": {\n",
    "      \"feature\": \"unique_ips_28d\",\n",
    "      \"category\": \"genuine\",\n",
    "      \"weight\": \"high\",\n",
    "      \"rule_text\": \"If the user has used 1 to 3 unique IP addresses in the last 28 days, it reflects a consistent device or network, typically genuine.\"\n",
    "    }\n",
    "  },\n",
    "  {\n",
    "    \"id\": \"rule_08\",\n",
    "    \"metadata\": {\n",
    "      \"feature\": \"unique_ips_28d\",\n",
    "      \"category\": \"slightly-genuine\",\n",
    "      \"weight\": \"medium\",\n",
    "      \"rule_text\": \"If the user has used 3 to 5 unique IP addresses in the last 28 days, this could indicate mild inconsistency but still within normal user behavior.\"\n",
    "    }\n",
    "  },\n",
    "  {\n",
    "    \"id\": \"rule_09\",\n",
    "    \"metadata\": {\n",
    "      \"feature\": \"unique_ips_28d\",\n",
    "      \"category\": \"fraudulent\",\n",
    "      \"weight\": \"high\",\n",
    "      \"rule_text\": \"If the user operates from more than 7 IPs in 28 days, it suggests multiple proxies or shared accounts, likely fraudulent.\"\n",
    "    }\n",
    "  },\n",
    "  {\n",
    "    \"id\": \"rule_10\",\n",
    "    \"metadata\": {\n",
    "      \"feature\": \"time_since_last_txn\",\n",
    "      \"category\": \"genuine\",\n",
    "      \"weight\": \"high\",\n",
    "      \"rule_text\": \"If the time since the last transaction is more than 4 days, the behavior aligns with typical user intervals, indicating genuine activity.\"\n",
    "    }\n",
    "  },\n",
    "  {\n",
    "    \"id\": \"rule_11\",\n",
    "    \"metadata\": {\n",
    "      \"feature\": \"time_since_last_txn\",\n",
    "      \"category\": \"slightly-genuine\",\n",
    "      \"weight\": \"medium\",\n",
    "      \"rule_text\": \"If the time since the last transaction is between 1 and 4 days, it indicates moderate engagement, possibly genuine but slightly automated.\"\n",
    "    }\n",
    "  },\n",
    "  {\n",
    "    \"id\": \"rule_12\",\n",
    "    \"metadata\": {\n",
    "      \"feature\": \"time_since_last_txn\",\n",
    "      \"category\": \"fraudulent\",\n",
    "      \"weight\": \"high\",\n",
    "      \"rule_text\": \"If the next transaction occurs within 2 minutes of the previous one, it’s likely automated or fraudulent.\"\n",
    "    }\n",
    "  },\n",
    "  {\n",
    "    \"id\": \"rule_13\",\n",
    "    \"metadata\": {\n",
    "      \"feature\": \"time_since_last_txn\",\n",
    "      \"category\": \"neutral\",\n",
    "      \"weight\": \"low\",\n",
    "      \"rule_text\": \"If there is no previous transaction (value = -1), no behavioral pattern can be inferred.\"\n",
    "    }\n",
    "  },\n",
    "  {\n",
    "    \"id\": \"rule_14\",\n",
    "    \"metadata\": {\n",
    "      \"feature\": \"avg_txn_per_week\",\n",
    "      \"category\": \"genuine\",\n",
    "      \"weight\": \"high\",\n",
    "      \"rule_text\": \"If the user makes 0 to 3 transactions per week, this reflects typical user behavior, likely genuine.\"\n",
    "    }\n",
    "  },\n",
    "  {\n",
    "    \"id\": \"rule_15\",\n",
    "    \"metadata\": {\n",
    "      \"feature\": \"avg_txn_per_week\",\n",
    "      \"category\": \"slightly-fraudulent\",\n",
    "      \"weight\": \"medium\",\n",
    "      \"rule_text\": \"If the user makes 4 to 7 transactions per week, it suggests slightly repetitive but not suspicious behavior.\"\n",
    "    }\n",
    "  },\n",
    "  {\n",
    "    \"id\": \"rule_16\",\n",
    "    \"metadata\": {\n",
    "      \"feature\": \"avg_txn_per_week\",\n",
    "      \"category\": \"fraudulent\",\n",
    "      \"weight\": \"high\",\n",
    "      \"rule_text\": \"If the user averages more than 7 transactions per week, it indicates unusually frequent activity, possibly fraudulent.\"\n",
    "    }\n",
    "  },\n",
    "  {\n",
    "    \"id\": \"rule_17\",\n",
    "    \"metadata\": {\n",
    "      \"feature\": \"dependent_tickets_current\",\n",
    "      \"category\": \"genuine\",\n",
    "      \"weight\": \"low\",\n",
    "      \"rule_text\": \"If 1 to 3 dependent tickets are booked in the current transaction, the user is likely genuine.\"\n",
    "    }\n",
    "  },\n",
    "  {\n",
    "    \"id\": \"rule_18\",\n",
    "    \"metadata\": {\n",
    "      \"feature\": \"dependent_tickets_current\",\n",
    "      \"category\": \"slightly-fraudulent\",\n",
    "      \"weight\": \"low\",\n",
    "      \"rule_text\": \"If there are 4 dependent tickets in the current transaction, the user shows borderline suspicious behavior.\"\n",
    "    }\n",
    "  },\n",
    "  {\n",
    "    \"id\": \"rule_19\",\n",
    "    \"metadata\": {\n",
    "      \"feature\": \"avg_dependent_ratio_28d\",\n",
    "      \"category\": \"genuine\",\n",
    "      \"weight\": \"medium\",\n",
    "      \"rule_text\": \"If the average dependent ratio is below 0.45, it’s a genuine pattern.\"\n",
    "    }\n",
    "  },\n",
    "  {\n",
    "    \"id\": \"rule_20\",\n",
    "    \"metadata\": {\n",
    "      \"feature\": \"avg_dependent_ratio_28d\",\n",
    "      \"category\": \"slightly-fraudulent\",\n",
    "      \"weight\": \"medium\",\n",
    "      \"rule_text\": \"If the average dependent ratio is between 0.45 and 0.7, it is slightly leaning towards fraud.\"\n",
    "    }\n",
    "  },\n",
    "  {\n",
    "    \"id\": \"rule_21\",\n",
    "    \"metadata\": {\n",
    "      \"feature\": \"avg_dependent_ratio_28d\",\n",
    "      \"category\": \"fraudulent\",\n",
    "      \"weight\": \"high\",\n",
    "      \"rule_text\": \"If the average dependent ratio exceeds 0.8, it’s a strong fraud signal as dependency usage is unusually high.\"\n",
    "    }\n",
    "  },\n",
    "  {\n",
    "    \"id\": \"rule_22\",\n",
    "    \"metadata\": {\n",
    "      \"feature\": \"tickets_current_txn\",\n",
    "      \"category\": \"genuine\",\n",
    "      \"weight\": \"low\",\n",
    "      \"rule_text\": \"If 1 to 3 tickets are booked in the current transaction, it’s typical of genuine personal usage.\"\n",
    "    }\n",
    "  },\n",
    "  {\n",
    "    \"id\": \"rule_23\",\n",
    "    \"metadata\": {\n",
    "      \"feature\": \"tickets_current_txn\",\n",
    "      \"category\": \"slightly-fraudulent\",\n",
    "      \"weight\": \"low\",\n",
    "      \"rule_text\": \"If 5 tickets are booked in the current transaction, it’s slightly suspicious, possibly for reselling or automation.\"\n",
    "    }\n",
    "  },\n",
    "  {\n",
    "    \"id\": \"rule_24\",\n",
    "    \"metadata\": {\n",
    "      \"feature\": \"avg_tickets_per_txn\",\n",
    "      \"category\": \"genuine\",\n",
    "      \"weight\": \"high\",\n",
    "      \"rule_text\": \"If the average tickets per transaction is between 1 and 3, the user is genuine.\"\n",
    "    }\n",
    "  },\n",
    "  {\n",
    "    \"id\": \"rule_25\",\n",
    "    \"metadata\": {\n",
    "      \"feature\": \"avg_tickets_per_txn\",\n",
    "      \"category\": \"slightly-fraudulent\",\n",
    "      \"weight\": \"medium\",\n",
    "      \"rule_text\": \"If the average tickets per transaction is 4, it leans slightly towards fraudulent but still borderline.\"\n",
    "    }\n",
    "  },\n",
    "  {\n",
    "    \"id\": \"rule_26\",\n",
    "    \"metadata\": {\n",
    "      \"feature\": \"avg_tickets_per_txn\",\n",
    "      \"category\": \"fraudulent\",\n",
    "      \"weight\": \"high\",\n",
    "      \"rule_text\": \"If the average tickets per transaction is 5, it indicates fraudulent or reseller behavior.\"\n",
    "    }\n",
    "  },\n",
    "  {\n",
    "    \"id\": \"rule_27\",\n",
    "    \"metadata\": {\n",
    "      \"feature\": \"class_ticket_distribution\",\n",
    "      \"category\": \"genuine\",\n",
    "      \"weight\": \"medium\",\n",
    "      \"rule_text\": \"If the user buys tickets spread across multiple classes (1, 2, 3, observation), it reflects normal variation and genuine behavior.\"\n",
    "    }\n",
    "  },\n",
    "  {\n",
    "    \"id\": \"rule_28\",\n",
    "    \"metadata\": {\n",
    "      \"feature\": \"class_ticket_distribution\",\n",
    "      \"category\": \"genuine\",\n",
    "      \"weight\": \"low\",\n",
    "      \"rule_text\": \"If the user buys only in observation saloon and the total tickets are below 10, it still indicates genuine interest.\"\n",
    "    }\n",
    "  },\n",
    "  {\n",
    "    \"id\": \"rule_29\",\n",
    "    \"metadata\": {\n",
    "      \"feature\": \"class_ticket_distribution\",\n",
    "      \"category\": \"fraudulent\",\n",
    "      \"weight\": \"high\",\n",
    "      \"rule_text\": \"If the user buys only in observation saloon or class 1 and the number of tickets exceeds 25, it’s a highly fraudulent pattern typical of automated mass booking.\"\n",
    "    }\n",
    "  }\n",
    "]\n"
   ]
  },
  {
   "cell_type": "markdown",
   "id": "780da303",
   "metadata": {},
   "source": [
    "### Insert rules into pinecone vector DB"
   ]
  },
  {
   "cell_type": "code",
   "execution_count": 13,
   "id": "c097aad0",
   "metadata": {},
   "outputs": [
    {
     "name": "stderr",
     "output_type": "stream",
     "text": [
      "Embedding & preparing rules: 100%|██████████| 29/29 [00:00<00:00, 73.41it/s]\n"
     ]
    },
    {
     "name": "stdout",
     "output_type": "stream",
     "text": [
      "✅ Successfully inserted 29 rules into Pinecone index 'railway-rules-new-v1'.\n"
     ]
    }
   ],
   "source": [
    "from tqdm import tqdm  # optional, for progress bar\n",
    "\n",
    "# Function to insert all rules into Pinecone\n",
    "def insert_rules_into_pinecone(rule_set, index_name, embedding):\n",
    "\n",
    "    vectors = []\n",
    "\n",
    "    for rule in tqdm(rule_set, desc=\"Embedding & preparing rules\"):\n",
    "        rule_id = rule[\"id\"]\n",
    "        metadata = rule[\"metadata\"]\n",
    "        rule_text = metadata[\"rule_text\"]\n",
    "\n",
    "        text_to_embed = f\"Feature: {rule['metadata']['feature']}. {rule['metadata']['rule_text']}\"\n",
    "        vector = embedding.embed_query(text_to_embed)   \n",
    "\n",
    "        # Generate embedding for the rule_text\n",
    "        # vector = embedding.embed_query(rule_text)\n",
    "\n",
    "        # Create vector structure for Pinecone\n",
    "        vectors.append({\n",
    "            \"id\": rule_id,\n",
    "            \"values\": vector,\n",
    "            \"metadata\": metadata\n",
    "        })\n",
    "\n",
    "    # Upsert (insert/update) all rules into Pinecone\n",
    "    index.upsert(vectors=vectors)\n",
    "    print(f\"✅ Successfully inserted {len(rule_set)} rules into Pinecone index '{index_name}'.\")\n",
    "\n",
    "# Run the insertion\n",
    "insert_rules_into_pinecone(rule_set, index_name, embedding)\n"
   ]
  },
  {
   "cell_type": "markdown",
   "id": "1a17f9b9",
   "metadata": {},
   "source": [
    "### Create the retriver"
   ]
  },
  {
   "cell_type": "code",
   "execution_count": 11,
   "id": "5e8935f0",
   "metadata": {},
   "outputs": [],
   "source": [
    "from langchain_pinecone import PineconeVectorStore\n",
    "\n",
    "vectorstore = PineconeVectorStore.from_existing_index(\n",
    "    index_name = \"railway-rules-new-v1\",\n",
    "    embedding = embedding,\n",
    "    text_key=\"rule_text\"\n",
    ")\n"
   ]
  },
  {
   "cell_type": "code",
   "execution_count": 25,
   "id": "b480e9e6",
   "metadata": {},
   "outputs": [],
   "source": [
    "retriever = vectorstore.as_retriever(search_type=\"similarity\", search_kwargs={\"k\":7})"
   ]
  },
  {
   "cell_type": "code",
   "execution_count": 35,
   "id": "12241d7d",
   "metadata": {},
   "outputs": [
    {
     "data": {
      "text/plain": [
       "[Document(id='rule_17', metadata={'category': 'genuine', 'feature': 'dependent_tickets_current', 'weight': 'low'}, page_content='If 1 to 3 dependent tickets are booked in the current transaction, the user is likely genuine.'),\n",
       " Document(id='rule_18', metadata={'category': 'slightly-fraudulent', 'feature': 'dependent_tickets_current', 'weight': 'low'}, page_content='If there are 4 dependent tickets in the current transaction, the user shows borderline suspicious behavior.'),\n",
       " Document(id='rule_22', metadata={'category': 'genuine', 'feature': 'tickets_current_txn', 'weight': 'low'}, page_content='If 1 to 3 tickets are booked in the current transaction, it’s typical of genuine personal usage.'),\n",
       " Document(id='rule_23', metadata={'category': 'slightly-fraudulent', 'feature': 'tickets_current_txn', 'weight': 'low'}, page_content='If 5 tickets are booked in the current transaction, it’s slightly suspicious, possibly for reselling or automation.'),\n",
       " Document(id='rule_27', metadata={'category': 'genuine', 'feature': 'class_ticket_distribution', 'weight': 'medium'}, page_content='If the user buys tickets spread across multiple classes (1, 2, 3, observation), it reflects normal variation and genuine behavior.'),\n",
       " Document(id='rule_28', metadata={'category': 'genuine', 'feature': 'class_ticket_distribution', 'weight': 'low'}, page_content='If the user buys only in observation saloon and the total tickets are below 10, it still indicates genuine interest.'),\n",
       " Document(id='rule_29', metadata={'category': 'fraudulent', 'feature': 'class_ticket_distribution', 'weight': 'high'}, page_content='If the user buys only in observation saloon or class 1 and the number of tickets exceeds 25, it’s a highly fraudulent pattern typical of automated mass booking.')]"
      ]
     },
     "execution_count": 35,
     "metadata": {},
     "output_type": "execute_result"
    }
   ],
   "source": [
    "retrieved_docs = retriever.invoke(\"dependent tickets booked in current transaction is 2\")\n",
    "retrieved_docs"
   ]
  },
  {
   "cell_type": "code",
   "execution_count": 34,
   "id": "c14b9425",
   "metadata": {},
   "outputs": [
    {
     "name": "stdout",
     "output_type": "stream",
     "text": [
      "============================================================\n",
      "TEST 1: Basic Retriever Test\n",
      "============================================================\n",
      "\n",
      "Query: 'User completed booking in 2 minutes'\n",
      "\n",
      "Retrieved 3 documents:\n",
      "\n",
      "\n",
      "==================================================\n",
      "Result 1:\n",
      "==================================================\n",
      "Content: If the transaction completion time is between 1 and 2 minutes, the user shows slightly automated or hurried behavior, possibly semi-fraudulent.\n",
      "\n",
      "Metadata:\n",
      "  - category: slightly-fraudulent\n",
      "  - feature: transaction_complete_time\n",
      "  - weight: medium\n",
      "\n",
      "==================================================\n",
      "Result 2:\n",
      "==================================================\n",
      "Content: If the transaction completion time is greater than 2 minutes, the user behavior strongly aligns with genuine human interaction.\n",
      "\n",
      "Metadata:\n",
      "  - category: genuine\n",
      "  - feature: transaction_complete_time\n",
      "  - weight: high\n",
      "\n",
      "==================================================\n",
      "Result 3:\n",
      "==================================================\n",
      "Content: If the user's average transaction time over the last 28 days exceeds 2 minutes, they are more likely a genuine user.\n",
      "\n",
      "Metadata:\n",
      "  - category: genuine\n",
      "  - feature: avg_transaction_time_28d\n",
      "  - weight: high\n"
     ]
    }
   ],
   "source": [
    "# ===========================\n",
    "# TEST 1: Basic Retriever Test\n",
    "# ===========================\n",
    "print(\"=\" * 60)\n",
    "print(\"TEST 1: Basic Retriever Test\")\n",
    "print(\"=\" * 60)\n",
    "\n",
    "test_query = \"User completed booking in 2 minutes\"\n",
    "retrieved_docs = retriever.get_relevant_documents(test_query)\n",
    "\n",
    "print(f\"\\nQuery: '{test_query}'\")\n",
    "print(f\"\\nRetrieved {len(retrieved_docs)} documents:\\n\")\n",
    "\n",
    "for i, doc in enumerate(retrieved_docs, 1):\n",
    "    print(f\"\\n{'='*50}\")\n",
    "    print(f\"Result {i}:\")\n",
    "    print(f\"{'='*50}\")\n",
    "    print(f\"Content: {doc.page_content}\")\n",
    "    print(f\"\\nMetadata:\")\n",
    "    for key, value in doc.metadata.items():\n",
    "        print(f\"  - {key}: {value}\")\n",
    "\n"
   ]
  },
  {
   "cell_type": "markdown",
   "id": "476772c2",
   "metadata": {},
   "source": [
    "### Connect with the LLM"
   ]
  },
  {
   "cell_type": "code",
   "execution_count": null,
   "id": "cd6779bb",
   "metadata": {},
   "outputs": [],
   "source": [
    "from langchain_google_genai import ChatGoogleGenerativeAI\n",
    "llm = ChatGoogleGenerativeAI(model=\"gemini-2.5-flash-lite\")"
   ]
  },
  {
   "cell_type": "code",
   "execution_count": 36,
   "id": "80ba297d",
   "metadata": {},
   "outputs": [],
   "source": [
    "# transaction data\n",
    "transaction_data = {\n",
    "    \"transaction_complete_time\": 0.9,                   # minutes\n",
    "    \"average_transaction_time_28d\": 1.5,                # minutes\n",
    "    \"unique_ips_28d\": 8,\n",
    "    \"time_since_last_transaction\": 1,                # days (~43 mins)\n",
    "    \"average_transactions_per_week\": 7,\n",
    "    \"dependent_tickets_current\": 4,\n",
    "    \"average_dependent_tickets_ratio_28d\": 0.7,\n",
    "    \"tickets_current\": 5,\n",
    "    \"average_tickets_per_transaction\": 4,\n",
    "    \"tickets_class_1\": 11,\n",
    "    \"tickets_class_2\": 0,\n",
    "    \"tickets_class_3\": 0,\n",
    "    \"tickets_observation_salon\": 15\n",
    "}\n"
   ]
  },
  {
   "cell_type": "code",
   "execution_count": 38,
   "id": "335f27d9",
   "metadata": {},
   "outputs": [],
   "source": [
    "# convert transaction data to text\n",
    "def transaction_to_text(data: dict) -> str:\n",
    "    text = f\"\"\"\n",
    "    The user completed the current booking in {data['transaction_complete_time']} minutes.\n",
    "    In the last 28 days, the user's average transaction time was {data['average_transaction_time_28d']} minutes.\n",
    "    The user used {data['unique_ips_28d']} unique IP addresses.\n",
    "    Time since last transaction: {data['time_since_last_transaction']} days.\n",
    "    Average transactions per week: {data['average_transactions_per_week']}.\n",
    "    Dependent tickets in current transaction: {data['dependent_tickets_current']}.\n",
    "    Average dependent tickets ratio in last 28 days: {data['average_dependent_tickets_ratio_28d']}.\n",
    "    Tickets in current transaction: {data['tickets_current']}.\n",
    "    Average tickets per transaction: {data['average_tickets_per_transaction']}.\n",
    "    Tickets per class:\n",
    "        Class 1 = {data['tickets_class_1']},\n",
    "        Class 2 = {data['tickets_class_2']},\n",
    "        Class 3 = {data['tickets_class_3']},\n",
    "        Observation saloon = {data['tickets_observation_salon']}.\n",
    "    \"\"\"\n",
    "    return text.strip()\n"
   ]
  },
  {
   "cell_type": "code",
   "execution_count": 39,
   "id": "7a8dcb40",
   "metadata": {},
   "outputs": [],
   "source": [
    "# retrieving rules from pinecone based on transaction data\n",
    "query_text = transaction_to_text(transaction_data)\n",
    "retrieved_rules = retriever.get_relevant_documents(query_text)"
   ]
  },
  {
   "cell_type": "code",
   "execution_count": 19,
   "id": "ebfd2ae8",
   "metadata": {},
   "outputs": [],
   "source": [
    "# system prompt\n",
    "system_prompt = \"\"\"\n",
    "You are an intelligent fraud detection assistant for a railway ticketing system.\n",
    "You are given:\n",
    "1. A user's current transaction details.\n",
    "2. The most relevant behavioral rules from a rule database (some indicate fraudulent, some genuine behavior).\n",
    "\n",
    "Your task:\n",
    "- Analyze the transaction details in light of the retrieved rules.\n",
    "- Explain which rules apply most strongly.\n",
    "- Conclude whether the user is more likely a \"Genuine User\" or a \"Fraudulent User\".\n",
    "- Give a short justification (2–3 sentences) referencing the rules.\n",
    "\n",
    "Be objective and concise in your final decision.\n",
    "\"\"\"\n"
   ]
  },
  {
   "cell_type": "code",
   "execution_count": 40,
   "id": "da4e0c62",
   "metadata": {},
   "outputs": [
    {
     "name": "stdout",
     "output_type": "stream",
     "text": [
      "\n",
      "================= RESULT =================\n",
      "**Analysis:**\n",
      "\n",
      "The user's current transaction has 5 tickets, which aligns with Rule 1, suggesting potentially fraudulent or reseller behavior. The average transaction time of 0.9 minutes is faster than their 28-day average of 1.5 minutes, which, combined with Rule 4, indicates partially automated patterns leaning towards fraud. The user has purchased 4 dependent tickets, exceeding the average dependent ticket ratio of 0.7, which could be suspicious. However, the total number of tickets in this transaction (5) is not excessively high, and the user has not exclusively booked in the observation saloon, so Rule 5 and Rule 7 are not strongly applicable. Rule 6 is not applicable as the current transaction has 5 tickets.\n",
      "\n",
      "**Decision:**\n",
      "\n",
      "Fraudulent User\n",
      "\n",
      "**Justification:**\n",
      "\n",
      "The current transaction of 5 tickets directly matches Rule 1, indicating potential reseller or fraudulent activity. Additionally, the faster-than-average transaction time, as per Rule 4, suggests automated patterns. While other rules offer mixed signals, these two rules strongly point towards a fraudulent user.\n"
     ]
    }
   ],
   "source": [
    "# LLM result\n",
    "from langchain.schema import SystemMessage, HumanMessage\n",
    "\n",
    "# Prepare retrieved rule text\n",
    "rules_text = \"\\n\\n\".join([f\"Rule {i+1}: {doc.page_content}\" for i, doc in enumerate(retrieved_rules)])\n",
    "\n",
    "# Create the conversation\n",
    "messages = [\n",
    "    SystemMessage(content=system_prompt),\n",
    "    HumanMessage(content=f\"Transaction details:\\n{query_text}\\n\\nRelevant rules:\\n{rules_text}\")\n",
    "]\n",
    "\n",
    "# Run the model\n",
    "response = llm.invoke(messages)\n",
    "\n",
    "print(\"\\n================= RESULT =================\")\n",
    "print(response.content)\n"
   ]
  }
 ],
 "metadata": {
  "kernelspec": {
   "display_name": "medibot",
   "language": "python",
   "name": "python3"
  },
  "language_info": {
   "codemirror_mode": {
    "name": "ipython",
    "version": 3
   },
   "file_extension": ".py",
   "mimetype": "text/x-python",
   "name": "python",
   "nbconvert_exporter": "python",
   "pygments_lexer": "ipython3",
   "version": "3.10.18"
  }
 },
 "nbformat": 4,
 "nbformat_minor": 5
}
