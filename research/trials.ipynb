{
 "cells": [
  {
   "cell_type": "code",
   "execution_count": 1,
   "id": "1b37196a",
   "metadata": {},
   "outputs": [
    {
     "name": "stdout",
     "output_type": "stream",
     "text": [
      "ok\n"
     ]
    }
   ],
   "source": [
    "print(\"ok\")"
   ]
  },
  {
   "cell_type": "code",
   "execution_count": 2,
   "id": "ba1ddb15",
   "metadata": {},
   "outputs": [
    {
     "data": {
      "text/plain": [
       "'d:\\\\Computer Engineering\\\\8 th semester\\\\final year project\\\\RAG\\\\MedicalChatbot\\\\research'"
      ]
     },
     "execution_count": 2,
     "metadata": {},
     "output_type": "execute_result"
    }
   ],
   "source": [
    "%pwd"
   ]
  },
  {
   "cell_type": "code",
   "execution_count": 3,
   "id": "8191de00",
   "metadata": {},
   "outputs": [],
   "source": [
    "import os\n",
    "os.chdir(\"../\")"
   ]
  },
  {
   "cell_type": "code",
   "execution_count": 4,
   "id": "6ac4ef4f",
   "metadata": {},
   "outputs": [
    {
     "data": {
      "text/plain": [
       "'d:\\\\Computer Engineering\\\\8 th semester\\\\final year project\\\\RAG\\\\MedicalChatbot'"
      ]
     },
     "execution_count": 4,
     "metadata": {},
     "output_type": "execute_result"
    }
   ],
   "source": [
    "%pwd"
   ]
  },
  {
   "cell_type": "code",
   "execution_count": 5,
   "id": "333d3136",
   "metadata": {},
   "outputs": [
    {
     "name": "stderr",
     "output_type": "stream",
     "text": [
      "c:\\Users\\Amantha\\.conda\\envs\\medibot\\lib\\site-packages\\tqdm\\auto.py:21: TqdmWarning: IProgress not found. Please update jupyter and ipywidgets. See https://ipywidgets.readthedocs.io/en/stable/user_install.html\n",
      "  from .autonotebook import tqdm as notebook_tqdm\n"
     ]
    }
   ],
   "source": [
    "from langchain.document_loaders import PyPDFLoader, DirectoryLoader\n",
    "from langchain.text_splitter import RecursiveCharacterTextSplitter"
   ]
  },
  {
   "cell_type": "code",
   "execution_count": 6,
   "id": "60415d85",
   "metadata": {},
   "outputs": [],
   "source": [
    "# Extract text from PDF files\n",
    "def load_pdf_files(data):\n",
    "    loader = DirectoryLoader(\n",
    "        data,\n",
    "        glob = \"*.pdf\",\n",
    "        loader_cls=PyPDFLoader\n",
    "    )\n",
    "\n",
    "    documents = loader.load()\n",
    "    return documents"
   ]
  },
  {
   "cell_type": "code",
   "execution_count": 7,
   "id": "7690129e",
   "metadata": {},
   "outputs": [],
   "source": [
    "extracted_data = load_pdf_files(\"data\")"
   ]
  },
  {
   "cell_type": "code",
   "execution_count": 8,
   "id": "eb36d714",
   "metadata": {},
   "outputs": [
    {
     "data": {
      "text/plain": [
       "[Document(metadata={'producer': 'Microsoft® Word 2019', 'creator': 'Microsoft® Word 2019', 'creationdate': '2025-10-08T20:31:30+05:30', 'author': 'Yasindu Amantha', 'moddate': '2025-10-08T20:31:30+05:30', 'source': 'data\\\\railway.pdf', 'total_pages': 3, 'page': 0, 'page_label': '1'}, page_content='railway_fraud_rules = [ \\n \\n    # ⏱ Transaction Completion Time-Based Rules \\n    \"Rule 1: Flag transactions where completion time is between 15 to 4 minutes. Reason: Typical human \\ninteraction duration for a genuine booking. Action: Set Fraudulent Risk to Low. Category: Transaction \\nCompletion Time-Based Rules\", \\n    \"Rule 2: Flag transactions where completion time is between 0 to 4 minutes. Reason: Extremely fast \\nbooking completion—potential automated bot activity. Action: Set Fraudulent Risk to High. Category: \\nTransaction Completion Time-Based Rules\", \\n    \"Rule 3: Flag users whose average transaction completion time over the last 28 days is between 15 to \\n4 minutes. Reason: Consistent human-like behavior. Action: Set Fraudulent Risk to Low. Category: \\nTransaction Completion Time-Based Rules\", \\n    \"Rule 4: Flag users whose average transaction completion time over the last 28 days is between 4 to 0 \\nminutes. Reason: Consistently rapid transactions—possible automated booking. Action: Set Fraudulent \\nRisk to High. Category: Transaction Completion Time-Based Rules\", \\n \\n    # 🌐 IP Address-Based Rules \\n    \"Rule 5: Flag users with 3 or fewer unique IP addresses used within the last 28 days. Reason: Normal \\nbehavior—same IP or few devices used for booking. Action: Set Fraudulent Risk to Low. Category: IP \\nAddress-Based Rules\", \\n    \"Rule 6: Flag users with more than 3 unique IP addresses used within the last 28 days. Reason: \\nMultiple device or proxy usage may indicate account sharing or automation. Action: Set Fraudulent Risk \\nto High. Category: IP Address-Based Rules\", \\n \\n    # 📅 Transaction Frequency / Recency Rules \\n    \"Rule 7: Flag users whose time since last transaction is more than 3 or 4 days. Reason: Normal gap \\nbetween bookings—typical travel planning pattern. Action: Set Fraudulent Risk to Low. Category: \\nTransaction Frequency-Based Rules\", \\n    \"Rule 8: Flag users whose time since last transaction is less than 3 or 4 days. Reason: High booking \\nfrequency may indicate automated ticket purchase attempts. Action: Set Fraudulent Risk to High. \\nCategory: Transaction Frequency-Based Rules\", \\n    \"Rule 9: Flag users with no previous transactions (time since last transaction = -1). Reason: New user—\\nno prior suspicious history. Action: Set Fraudulent Risk to Low. Category: Transaction Frequency-Based \\nRules\",'),\n",
       " Document(metadata={'producer': 'Microsoft® Word 2019', 'creator': 'Microsoft® Word 2019', 'creationdate': '2025-10-08T20:31:30+05:30', 'author': 'Yasindu Amantha', 'moddate': '2025-10-08T20:31:30+05:30', 'source': 'data\\\\railway.pdf', 'total_pages': 3, 'page': 1, 'page_label': '2'}, page_content='# 📆 Weekly Transaction Behavior Rules \\n    \"Rule 10: Flag users whose average transactions per week range between 0.22 and 2.04. Reason: \\nNormal ticket purchase frequency for genuine travelers. Action: Set Fraudulent Risk to Low. Category: \\nWeekly Transaction Behavior Rules\", \\n    \"Rule 11: Flag users whose average transactions per week range between 0.3 and 9. Reason: \\nAbnormally high weekly activity—potential bulk or automated purchases. Action: Set Fraudulent Risk to \\nHigh. Category: Weekly Transaction Behavior Rules\", \\n \\n    # 👥 Dependent Ticket Behavior Rules \\n    \"Rule 12: Flag transactions with 0 to 3 dependent tickets. Reason: Typical number of dependent \\npassengers for genuine users. Action: Set Fraudulent Risk to Low. Category: Dependent Ticket Behavior \\nRules\", \\n    \"Rule 13: Flag transactions with 3 to 4 dependent tickets. Reason: Higher dependent count may \\nindicate ticket reselling behavior. Action: Set Fraudulent Risk to High. Category: Dependent Ticket \\nBehavior Rules\", \\n    \"Rule 14: Flag users whose average dependent transaction ratio over the last 28 days ranges between \\n0.41 and 0. Reason: Balanced, human-like dependent booking behavior. Action: Set Fraudulent Risk to \\nLow. Category: Dependent Ticket Behavior Rules\", \\n    \"Rule 15: Flag users whose average dependent transaction ratio over the last 28 days ranges between \\n1 and 0.5. Reason: Excessive dependent usage—possible fraudulent bulk booking. Action: Set Fraudulent \\nRisk to High. Category: Dependent Ticket Behavior Rules\", \\n \\n    # 🎟 Ticket Count-Based Rules \\n    \"Rule 16: Flag transactions where number of tickets per transaction ranges between 1 and 3 or 4. \\nReason: Normal passenger booking behavior. Action: Set Fraudulent Risk to Low. Category: Ticket Count-\\nBased Rules\", \\n    \"Rule 17: Flag transactions with 4 or 5 tickets. Reason: High-volume purchase per transaction—\\npossible fraud or resale activity. Action: Set Fraudulent Risk to High. Category: Ticket Count-Based \\nRules\", \\n    \"Rule 18: Flag users with an average of 1 to 3 tickets per transaction. Reason: Normal booking size for \\ngenuine users. Action: Set Fraudulent Risk to Low. Category: Ticket Count-Based Rules\", \\n    \"Rule 19: Flag users with an average of 4 or 5 tickets per transaction. Reason: Consistently high ticket \\ncount per booking—possible automated group booking or ticket hoarding. Action: Set Fraudulent Risk to \\nHigh. Category: Ticket Count-Based Rules\",'),\n",
       " Document(metadata={'producer': 'Microsoft® Word 2019', 'creator': 'Microsoft® Word 2019', 'creationdate': '2025-10-08T20:31:30+05:30', 'author': 'Yasindu Amantha', 'moddate': '2025-10-08T20:31:30+05:30', 'source': 'data\\\\railway.pdf', 'total_pages': 3, 'page': 2, 'page_label': '3'}, page_content='# 🚆 Ticket Class Usage Rules \\n    \"Rule 20: Flag users who buy tickets across multiple classes (e.g., Class 1, 2, 3, Observation Saloon). \\nReason: Diverse travel patterns—normal behavior. Action: Set Fraudulent Risk to Low. Category: Ticket \\nClass Usage Rules\", \\n    \"Rule 21: Flag users who buy tickets only in Class 1 or Observation Saloon. Reason: Narrow purchase \\npattern targeting premium classes—possible reseller activity. Action: Set Fraudulent Risk to High. \\nCategory: Ticket Class Usage Rules\", \\n \\n    # 🗺 Route Pattern-Based Rules \\n    \"Rule 22: Flag users who consistently book only \\'Kandy → Colombo\\' or \\'Colombo → Kandy\\' routes. \\nReason: Repeated booking on popular routes—possible automated bulk booking attempt. Action: Set \\nFraudulent Risk to High. Category: Route Pattern-Based Rules\" \\n]')]"
      ]
     },
     "execution_count": 8,
     "metadata": {},
     "output_type": "execute_result"
    }
   ],
   "source": [
    "extracted_data"
   ]
  },
  {
   "cell_type": "code",
   "execution_count": 9,
   "id": "859ef83a",
   "metadata": {},
   "outputs": [
    {
     "data": {
      "text/plain": [
       "3"
      ]
     },
     "execution_count": 9,
     "metadata": {},
     "output_type": "execute_result"
    }
   ],
   "source": [
    "# pages that read\n",
    "len(extracted_data)"
   ]
  },
  {
   "cell_type": "code",
   "execution_count": 10,
   "id": "dc80e423",
   "metadata": {},
   "outputs": [],
   "source": [
    "# filetr souce and the page content\n",
    "from typing import List\n",
    "from langchain.schema import Document\n",
    "\n",
    "def filter_to_minimal_docs(docs: List[Document]) -> List[Document]:\n",
    "    \"\"\"\n",
    "    Given a list of document objects, return a new list of document objects \n",
    "    containing only 'source' in metadata and the original page content.\n",
    "    \"\"\"\n",
    "    minimal_docs: List[Document] = []\n",
    "    for doc in docs:\n",
    "        src = doc.metadata.get(\"source\")\n",
    "        minimal_docs.append(\n",
    "            Document(\n",
    "                page_content=doc.page_content,\n",
    "                metadata={\"source\": src}\n",
    "            )\n",
    "        )\n",
    "    return minimal_docs"
   ]
  },
  {
   "cell_type": "code",
   "execution_count": 11,
   "id": "c11755fd",
   "metadata": {},
   "outputs": [],
   "source": [
    "minimal_docs = filter_to_minimal_docs(extracted_data)"
   ]
  },
  {
   "cell_type": "code",
   "execution_count": 12,
   "id": "bfbeb7a0",
   "metadata": {},
   "outputs": [
    {
     "data": {
      "text/plain": [
       "[Document(metadata={'source': 'data\\\\railway.pdf'}, page_content='railway_fraud_rules = [ \\n \\n    # ⏱ Transaction Completion Time-Based Rules \\n    \"Rule 1: Flag transactions where completion time is between 15 to 4 minutes. Reason: Typical human \\ninteraction duration for a genuine booking. Action: Set Fraudulent Risk to Low. Category: Transaction \\nCompletion Time-Based Rules\", \\n    \"Rule 2: Flag transactions where completion time is between 0 to 4 minutes. Reason: Extremely fast \\nbooking completion—potential automated bot activity. Action: Set Fraudulent Risk to High. Category: \\nTransaction Completion Time-Based Rules\", \\n    \"Rule 3: Flag users whose average transaction completion time over the last 28 days is between 15 to \\n4 minutes. Reason: Consistent human-like behavior. Action: Set Fraudulent Risk to Low. Category: \\nTransaction Completion Time-Based Rules\", \\n    \"Rule 4: Flag users whose average transaction completion time over the last 28 days is between 4 to 0 \\nminutes. Reason: Consistently rapid transactions—possible automated booking. Action: Set Fraudulent \\nRisk to High. Category: Transaction Completion Time-Based Rules\", \\n \\n    # 🌐 IP Address-Based Rules \\n    \"Rule 5: Flag users with 3 or fewer unique IP addresses used within the last 28 days. Reason: Normal \\nbehavior—same IP or few devices used for booking. Action: Set Fraudulent Risk to Low. Category: IP \\nAddress-Based Rules\", \\n    \"Rule 6: Flag users with more than 3 unique IP addresses used within the last 28 days. Reason: \\nMultiple device or proxy usage may indicate account sharing or automation. Action: Set Fraudulent Risk \\nto High. Category: IP Address-Based Rules\", \\n \\n    # 📅 Transaction Frequency / Recency Rules \\n    \"Rule 7: Flag users whose time since last transaction is more than 3 or 4 days. Reason: Normal gap \\nbetween bookings—typical travel planning pattern. Action: Set Fraudulent Risk to Low. Category: \\nTransaction Frequency-Based Rules\", \\n    \"Rule 8: Flag users whose time since last transaction is less than 3 or 4 days. Reason: High booking \\nfrequency may indicate automated ticket purchase attempts. Action: Set Fraudulent Risk to High. \\nCategory: Transaction Frequency-Based Rules\", \\n    \"Rule 9: Flag users with no previous transactions (time since last transaction = -1). Reason: New user—\\nno prior suspicious history. Action: Set Fraudulent Risk to Low. Category: Transaction Frequency-Based \\nRules\",'),\n",
       " Document(metadata={'source': 'data\\\\railway.pdf'}, page_content='# 📆 Weekly Transaction Behavior Rules \\n    \"Rule 10: Flag users whose average transactions per week range between 0.22 and 2.04. Reason: \\nNormal ticket purchase frequency for genuine travelers. Action: Set Fraudulent Risk to Low. Category: \\nWeekly Transaction Behavior Rules\", \\n    \"Rule 11: Flag users whose average transactions per week range between 0.3 and 9. Reason: \\nAbnormally high weekly activity—potential bulk or automated purchases. Action: Set Fraudulent Risk to \\nHigh. Category: Weekly Transaction Behavior Rules\", \\n \\n    # 👥 Dependent Ticket Behavior Rules \\n    \"Rule 12: Flag transactions with 0 to 3 dependent tickets. Reason: Typical number of dependent \\npassengers for genuine users. Action: Set Fraudulent Risk to Low. Category: Dependent Ticket Behavior \\nRules\", \\n    \"Rule 13: Flag transactions with 3 to 4 dependent tickets. Reason: Higher dependent count may \\nindicate ticket reselling behavior. Action: Set Fraudulent Risk to High. Category: Dependent Ticket \\nBehavior Rules\", \\n    \"Rule 14: Flag users whose average dependent transaction ratio over the last 28 days ranges between \\n0.41 and 0. Reason: Balanced, human-like dependent booking behavior. Action: Set Fraudulent Risk to \\nLow. Category: Dependent Ticket Behavior Rules\", \\n    \"Rule 15: Flag users whose average dependent transaction ratio over the last 28 days ranges between \\n1 and 0.5. Reason: Excessive dependent usage—possible fraudulent bulk booking. Action: Set Fraudulent \\nRisk to High. Category: Dependent Ticket Behavior Rules\", \\n \\n    # 🎟 Ticket Count-Based Rules \\n    \"Rule 16: Flag transactions where number of tickets per transaction ranges between 1 and 3 or 4. \\nReason: Normal passenger booking behavior. Action: Set Fraudulent Risk to Low. Category: Ticket Count-\\nBased Rules\", \\n    \"Rule 17: Flag transactions with 4 or 5 tickets. Reason: High-volume purchase per transaction—\\npossible fraud or resale activity. Action: Set Fraudulent Risk to High. Category: Ticket Count-Based \\nRules\", \\n    \"Rule 18: Flag users with an average of 1 to 3 tickets per transaction. Reason: Normal booking size for \\ngenuine users. Action: Set Fraudulent Risk to Low. Category: Ticket Count-Based Rules\", \\n    \"Rule 19: Flag users with an average of 4 or 5 tickets per transaction. Reason: Consistently high ticket \\ncount per booking—possible automated group booking or ticket hoarding. Action: Set Fraudulent Risk to \\nHigh. Category: Ticket Count-Based Rules\",'),\n",
       " Document(metadata={'source': 'data\\\\railway.pdf'}, page_content='# 🚆 Ticket Class Usage Rules \\n    \"Rule 20: Flag users who buy tickets across multiple classes (e.g., Class 1, 2, 3, Observation Saloon). \\nReason: Diverse travel patterns—normal behavior. Action: Set Fraudulent Risk to Low. Category: Ticket \\nClass Usage Rules\", \\n    \"Rule 21: Flag users who buy tickets only in Class 1 or Observation Saloon. Reason: Narrow purchase \\npattern targeting premium classes—possible reseller activity. Action: Set Fraudulent Risk to High. \\nCategory: Ticket Class Usage Rules\", \\n \\n    # 🗺 Route Pattern-Based Rules \\n    \"Rule 22: Flag users who consistently book only \\'Kandy → Colombo\\' or \\'Colombo → Kandy\\' routes. \\nReason: Repeated booking on popular routes—possible automated bulk booking attempt. Action: Set \\nFraudulent Risk to High. Category: Route Pattern-Based Rules\" \\n]')]"
      ]
     },
     "execution_count": 12,
     "metadata": {},
     "output_type": "execute_result"
    }
   ],
   "source": [
    "minimal_docs"
   ]
  },
  {
   "cell_type": "code",
   "execution_count": 36,
   "id": "fbda771d",
   "metadata": {},
   "outputs": [],
   "source": [
    "# Split the document into smaller chunks\n",
    "def text_split(minimal_docs):\n",
    "    text_splitter = RecursiveCharacterTextSplitter(\n",
    "        chunk_size=300,\n",
    "        chunk_overlap=50\n",
    "    )\n",
    "    texts_chunk = text_splitter.split_documents(minimal_docs)\n",
    "    return texts_chunk"
   ]
  },
  {
   "cell_type": "code",
   "execution_count": 37,
   "id": "cb8df6e3",
   "metadata": {},
   "outputs": [
    {
     "name": "stdout",
     "output_type": "stream",
     "text": [
      "Number of chunks: 24\n"
     ]
    }
   ],
   "source": [
    "texts_chunk = text_split(minimal_docs)\n",
    "print(f\"Number of chunks: {len(texts_chunk)}\")"
   ]
  },
  {
   "cell_type": "code",
   "execution_count": 38,
   "id": "39dfd633",
   "metadata": {},
   "outputs": [
    {
     "data": {
      "text/plain": [
       "[Document(metadata={'source': 'data\\\\railway.pdf'}, page_content='railway_fraud_rules = [ \\n \\n    # ⏱ Transaction Completion Time-Based Rules \\n    \"Rule 1: Flag transactions where completion time is between 15 to 4 minutes. Reason: Typical human \\ninteraction duration for a genuine booking. Action: Set Fraudulent Risk to Low. Category: Transaction'),\n",
       " Document(metadata={'source': 'data\\\\railway.pdf'}, page_content='Completion Time-Based Rules\", \\n    \"Rule 2: Flag transactions where completion time is between 0 to 4 minutes. Reason: Extremely fast \\nbooking completion—potential automated bot activity. Action: Set Fraudulent Risk to High. Category: \\nTransaction Completion Time-Based Rules\",'),\n",
       " Document(metadata={'source': 'data\\\\railway.pdf'}, page_content='Transaction Completion Time-Based Rules\", \\n    \"Rule 3: Flag users whose average transaction completion time over the last 28 days is between 15 to \\n4 minutes. Reason: Consistent human-like behavior. Action: Set Fraudulent Risk to Low. Category: \\nTransaction Completion Time-Based Rules\",'),\n",
       " Document(metadata={'source': 'data\\\\railway.pdf'}, page_content='Transaction Completion Time-Based Rules\", \\n    \"Rule 4: Flag users whose average transaction completion time over the last 28 days is between 4 to 0 \\nminutes. Reason: Consistently rapid transactions—possible automated booking. Action: Set Fraudulent'),\n",
       " Document(metadata={'source': 'data\\\\railway.pdf'}, page_content='Risk to High. Category: Transaction Completion Time-Based Rules\", \\n \\n    # 🌐 IP Address-Based Rules \\n    \"Rule 5: Flag users with 3 or fewer unique IP addresses used within the last 28 days. Reason: Normal'),\n",
       " Document(metadata={'source': 'data\\\\railway.pdf'}, page_content='behavior—same IP or few devices used for booking. Action: Set Fraudulent Risk to Low. Category: IP \\nAddress-Based Rules\", \\n    \"Rule 6: Flag users with more than 3 unique IP addresses used within the last 28 days. Reason:'),\n",
       " Document(metadata={'source': 'data\\\\railway.pdf'}, page_content='Multiple device or proxy usage may indicate account sharing or automation. Action: Set Fraudulent Risk \\nto High. Category: IP Address-Based Rules\", \\n \\n    # 📅 Transaction Frequency / Recency Rules'),\n",
       " Document(metadata={'source': 'data\\\\railway.pdf'}, page_content='# 📅 Transaction Frequency / Recency Rules \\n    \"Rule 7: Flag users whose time since last transaction is more than 3 or 4 days. Reason: Normal gap \\nbetween bookings—typical travel planning pattern. Action: Set Fraudulent Risk to Low. Category: \\nTransaction Frequency-Based Rules\",'),\n",
       " Document(metadata={'source': 'data\\\\railway.pdf'}, page_content='Transaction Frequency-Based Rules\", \\n    \"Rule 8: Flag users whose time since last transaction is less than 3 or 4 days. Reason: High booking \\nfrequency may indicate automated ticket purchase attempts. Action: Set Fraudulent Risk to High. \\nCategory: Transaction Frequency-Based Rules\",'),\n",
       " Document(metadata={'source': 'data\\\\railway.pdf'}, page_content='Category: Transaction Frequency-Based Rules\", \\n    \"Rule 9: Flag users with no previous transactions (time since last transaction = -1). Reason: New user—\\nno prior suspicious history. Action: Set Fraudulent Risk to Low. Category: Transaction Frequency-Based \\nRules\",'),\n",
       " Document(metadata={'source': 'data\\\\railway.pdf'}, page_content='# 📆 Weekly Transaction Behavior Rules \\n    \"Rule 10: Flag users whose average transactions per week range between 0.22 and 2.04. Reason: \\nNormal ticket purchase frequency for genuine travelers. Action: Set Fraudulent Risk to Low. Category: \\nWeekly Transaction Behavior Rules\",'),\n",
       " Document(metadata={'source': 'data\\\\railway.pdf'}, page_content='Weekly Transaction Behavior Rules\", \\n    \"Rule 11: Flag users whose average transactions per week range between 0.3 and 9. Reason: \\nAbnormally high weekly activity—potential bulk or automated purchases. Action: Set Fraudulent Risk to \\nHigh. Category: Weekly Transaction Behavior Rules\",'),\n",
       " Document(metadata={'source': 'data\\\\railway.pdf'}, page_content='# 👥 Dependent Ticket Behavior Rules \\n    \"Rule 12: Flag transactions with 0 to 3 dependent tickets. Reason: Typical number of dependent \\npassengers for genuine users. Action: Set Fraudulent Risk to Low. Category: Dependent Ticket Behavior \\nRules\",'),\n",
       " Document(metadata={'source': 'data\\\\railway.pdf'}, page_content='Rules\", \\n    \"Rule 13: Flag transactions with 3 to 4 dependent tickets. Reason: Higher dependent count may \\nindicate ticket reselling behavior. Action: Set Fraudulent Risk to High. Category: Dependent Ticket \\nBehavior Rules\",'),\n",
       " Document(metadata={'source': 'data\\\\railway.pdf'}, page_content='Behavior Rules\", \\n    \"Rule 14: Flag users whose average dependent transaction ratio over the last 28 days ranges between \\n0.41 and 0. Reason: Balanced, human-like dependent booking behavior. Action: Set Fraudulent Risk to \\nLow. Category: Dependent Ticket Behavior Rules\",'),\n",
       " Document(metadata={'source': 'data\\\\railway.pdf'}, page_content='Low. Category: Dependent Ticket Behavior Rules\", \\n    \"Rule 15: Flag users whose average dependent transaction ratio over the last 28 days ranges between \\n1 and 0.5. Reason: Excessive dependent usage—possible fraudulent bulk booking. Action: Set Fraudulent'),\n",
       " Document(metadata={'source': 'data\\\\railway.pdf'}, page_content='Risk to High. Category: Dependent Ticket Behavior Rules\", \\n \\n    # 🎟 Ticket Count-Based Rules \\n    \"Rule 16: Flag transactions where number of tickets per transaction ranges between 1 and 3 or 4. \\nReason: Normal passenger booking behavior. Action: Set Fraudulent Risk to Low. Category: Ticket Count-'),\n",
       " Document(metadata={'source': 'data\\\\railway.pdf'}, page_content='Based Rules\", \\n    \"Rule 17: Flag transactions with 4 or 5 tickets. Reason: High-volume purchase per transaction—\\npossible fraud or resale activity. Action: Set Fraudulent Risk to High. Category: Ticket Count-Based \\nRules\",'),\n",
       " Document(metadata={'source': 'data\\\\railway.pdf'}, page_content='Rules\", \\n    \"Rule 18: Flag users with an average of 1 to 3 tickets per transaction. Reason: Normal booking size for \\ngenuine users. Action: Set Fraudulent Risk to Low. Category: Ticket Count-Based Rules\",'),\n",
       " Document(metadata={'source': 'data\\\\railway.pdf'}, page_content='\"Rule 19: Flag users with an average of 4 or 5 tickets per transaction. Reason: Consistently high ticket \\ncount per booking—possible automated group booking or ticket hoarding. Action: Set Fraudulent Risk to \\nHigh. Category: Ticket Count-Based Rules\",'),\n",
       " Document(metadata={'source': 'data\\\\railway.pdf'}, page_content='# 🚆 Ticket Class Usage Rules \\n    \"Rule 20: Flag users who buy tickets across multiple classes (e.g., Class 1, 2, 3, Observation Saloon). \\nReason: Diverse travel patterns—normal behavior. Action: Set Fraudulent Risk to Low. Category: Ticket \\nClass Usage Rules\",'),\n",
       " Document(metadata={'source': 'data\\\\railway.pdf'}, page_content='Class Usage Rules\", \\n    \"Rule 21: Flag users who buy tickets only in Class 1 or Observation Saloon. Reason: Narrow purchase \\npattern targeting premium classes—possible reseller activity. Action: Set Fraudulent Risk to High. \\nCategory: Ticket Class Usage Rules\",'),\n",
       " Document(metadata={'source': 'data\\\\railway.pdf'}, page_content='Category: Ticket Class Usage Rules\", \\n \\n    # 🗺 Route Pattern-Based Rules \\n    \"Rule 22: Flag users who consistently book only \\'Kandy → Colombo\\' or \\'Colombo → Kandy\\' routes. \\nReason: Repeated booking on popular routes—possible automated bulk booking attempt. Action: Set'),\n",
       " Document(metadata={'source': 'data\\\\railway.pdf'}, page_content='Fraudulent Risk to High. Category: Route Pattern-Based Rules\" \\n]')]"
      ]
     },
     "execution_count": 38,
     "metadata": {},
     "output_type": "execute_result"
    }
   ],
   "source": [
    "texts_chunk"
   ]
  },
  {
   "cell_type": "code",
   "execution_count": 18,
   "id": "6f4c5e06",
   "metadata": {},
   "outputs": [],
   "source": [
    "# Rules\n",
    "\n",
    "railway_fraud_rules = [\n",
    "    # ⏱ Transaction Completion Time-Based Rules\n",
    "    {\n",
    "        \"id\": \"rule_1\",\n",
    "        \"text\": \"Flag transactions where completion time is between 4 to 15 minutes. Reason: Typical human interaction duration for a genuine booking. Action: Classify as Genuine (Low Fraud Risk).\",\n",
    "        \"metadata\": {\n",
    "            \"rule_number\": 1,\n",
    "            \"category\": \"Transaction Completion Time-Based Rules\",\n",
    "            \"risk_level\": \"Low\",\n",
    "            \"classification\": \"Genuine\",\n",
    "            \"metric\": \"completion_time\",\n",
    "            \"threshold_min\": 4,\n",
    "            \"threshold_max\": 15,\n",
    "            \"unit\": \"minutes\"\n",
    "        }\n",
    "    },\n",
    "    {\n",
    "        \"id\": \"rule_2\",\n",
    "        \"text\": \"Flag transactions where completion time is between 0 to 4 minutes. Reason: Extremely fast booking completion—potential automated bot activity. Action: Classify as Fraudulent (High Fraud Risk).\",\n",
    "        \"metadata\": {\n",
    "            \"rule_number\": 2,\n",
    "            \"category\": \"Transaction Completion Time-Based Rules\",\n",
    "            \"risk_level\": \"High\",\n",
    "            \"classification\": \"Fraudulent\",\n",
    "            \"metric\": \"completion_time\",\n",
    "            \"threshold_min\": 0,\n",
    "            \"threshold_max\": 4,\n",
    "            \"unit\": \"minutes\"\n",
    "        }\n",
    "    },\n",
    "    {\n",
    "        \"id\": \"rule_3\",\n",
    "        \"text\": \"Flag users whose average transaction completion time over the last 28 days is between 4 to 15 minutes. Reason: Consistent human-like behavior. Action: Classify as Genuine (Low Fraud Risk).\",\n",
    "        \"metadata\": {\n",
    "            \"rule_number\": 3,\n",
    "            \"category\": \"Transaction Completion Time-Based Rules\",\n",
    "            \"risk_level\": \"Low\",\n",
    "            \"classification\": \"Genuine\",\n",
    "            \"metric\": \"avg_completion_time_28d\",\n",
    "            \"threshold_min\": 4,\n",
    "            \"threshold_max\": 15,\n",
    "            \"unit\": \"minutes\",\n",
    "            \"time_window\": \"28_days\"\n",
    "        }\n",
    "    },\n",
    "    {\n",
    "        \"id\": \"rule_4\",\n",
    "        \"text\": \"Flag users whose average transaction completion time over the last 28 days is between 0 to 4 minutes. Reason: Consistently rapid transactions—possible automated booking. Action: Classify as Fraudulent (High Fraud Risk).\",\n",
    "        \"metadata\": {\n",
    "            \"rule_number\": 4,\n",
    "            \"category\": \"Transaction Completion Time-Based Rules\",\n",
    "            \"risk_level\": \"High\",\n",
    "            \"classification\": \"Fraudulent\",\n",
    "            \"metric\": \"avg_completion_time_28d\",\n",
    "            \"threshold_min\": 0,\n",
    "            \"threshold_max\": 4,\n",
    "            \"unit\": \"minutes\",\n",
    "            \"time_window\": \"28_days\"\n",
    "        }\n",
    "    },\n",
    "    \n",
    "    # 🌐 IP Address-Based Rules\n",
    "    {\n",
    "        \"id\": \"rule_5\",\n",
    "        \"text\": \"Flag users with 3 or fewer unique IP addresses used within the last 28 days. Reason: Normal behavior—same IP or few devices used for booking. Action: Classify as Genuine (Low Fraud Risk).\",\n",
    "        \"metadata\": {\n",
    "            \"rule_number\": 5,\n",
    "            \"category\": \"IP Address-Based Rules\",\n",
    "            \"risk_level\": \"Low\",\n",
    "            \"classification\": \"Genuine\",\n",
    "            \"metric\": \"unique_ip_count_28d\",\n",
    "            \"threshold_max\": 3,\n",
    "            \"time_window\": \"28_days\"\n",
    "        }\n",
    "    },\n",
    "    {\n",
    "        \"id\": \"rule_6\",\n",
    "        \"text\": \"Flag users with more than 3 unique IP addresses used within the last 28 days. Reason: Multiple device or proxy usage may indicate account sharing or automation. Action: Classify as Fraudulent (High Fraud Risk).\",\n",
    "        \"metadata\": {\n",
    "            \"rule_number\": 6,\n",
    "            \"category\": \"IP Address-Based Rules\",\n",
    "            \"risk_level\": \"High\",\n",
    "            \"classification\": \"Fraudulent\",\n",
    "            \"metric\": \"unique_ip_count_28d\",\n",
    "            \"threshold_min\": 3,\n",
    "            \"time_window\": \"28_days\"\n",
    "        }\n",
    "    },\n",
    "    \n",
    "    # 📅 Transaction Frequency / Recency Rules\n",
    "    {\n",
    "        \"id\": \"rule_7\",\n",
    "        \"text\": \"Flag users whose time since last transaction is more than 3 or 4 days. Reason: Normal gap between bookings—typical travel planning pattern. Action: Classify as Genuine (Low Fraud Risk).\",\n",
    "        \"metadata\": {\n",
    "            \"rule_number\": 7,\n",
    "            \"category\": \"Transaction Frequency-Based Rules\",\n",
    "            \"risk_level\": \"Low\",\n",
    "            \"classification\": \"Genuine\",\n",
    "            \"metric\": \"days_since_last_transaction\",\n",
    "            \"threshold_min\": 3,\n",
    "            \"unit\": \"days\"\n",
    "        }\n",
    "    },\n",
    "    {\n",
    "        \"id\": \"rule_8\",\n",
    "        \"text\": \"Flag users whose time since last transaction is less than 3 or 4 days. Reason: High booking frequency may indicate automated ticket purchase attempts. Action: Classify as Fraudulent (High Fraud Risk).\",\n",
    "        \"metadata\": {\n",
    "            \"rule_number\": 8,\n",
    "            \"category\": \"Transaction Frequency-Based Rules\",\n",
    "            \"risk_level\": \"High\",\n",
    "            \"classification\": \"Fraudulent\",\n",
    "            \"metric\": \"days_since_last_transaction\",\n",
    "            \"threshold_max\": 3,\n",
    "            \"unit\": \"days\"\n",
    "        }\n",
    "    },\n",
    "    {\n",
    "        \"id\": \"rule_9\",\n",
    "        \"text\": \"Flag users with no previous transactions (time since last transaction = -1). Reason: New user—no prior suspicious history. Action: Classify as Genuine (Low Fraud Risk).\",\n",
    "        \"metadata\": {\n",
    "            \"rule_number\": 9,\n",
    "            \"category\": \"Transaction Frequency-Based Rules\",\n",
    "            \"risk_level\": \"Low\",\n",
    "            \"classification\": \"Genuine\",\n",
    "            \"metric\": \"days_since_last_transaction\",\n",
    "            \"special_value\": -1,\n",
    "            \"user_type\": \"new_user\"\n",
    "        }\n",
    "    },\n",
    "    \n",
    "    # 📆 Weekly Transaction Behavior Rules\n",
    "    {\n",
    "        \"id\": \"rule_10\",\n",
    "        \"text\": \"Flag users whose average transactions per week range between 0.22 and 2.04. Reason: Normal ticket purchase frequency for genuine travelers. Action: Classify as Genuine (Low Fraud Risk).\",\n",
    "        \"metadata\": {\n",
    "            \"rule_number\": 10,\n",
    "            \"category\": \"Weekly Transaction Behavior Rules\",\n",
    "            \"risk_level\": \"Low\",\n",
    "            \"classification\": \"Genuine\",\n",
    "            \"metric\": \"avg_transactions_per_week\",\n",
    "            \"threshold_min\": 0.22,\n",
    "            \"threshold_max\": 2.04\n",
    "        }\n",
    "    },\n",
    "    {\n",
    "        \"id\": \"rule_11\",\n",
    "        \"text\": \"Flag users whose average transactions per week range between 0.3 and 9. Reason: Abnormally high weekly activity—potential bulk or automated purchases. Action: Classify as Fraudulent (High Fraud Risk).\",\n",
    "        \"metadata\": {\n",
    "            \"rule_number\": 11,\n",
    "            \"category\": \"Weekly Transaction Behavior Rules\",\n",
    "            \"risk_level\": \"High\",\n",
    "            \"classification\": \"Fraudulent\",\n",
    "            \"metric\": \"avg_transactions_per_week\",\n",
    "            \"threshold_min\": 0.3,\n",
    "            \"threshold_max\": 9\n",
    "        }\n",
    "    },\n",
    "    \n",
    "    # 👥 Dependent Ticket Behavior Rules\n",
    "    {\n",
    "        \"id\": \"rule_12\",\n",
    "        \"text\": \"Flag transactions with 0 to 3 dependent tickets. Reason: Typical number of dependent passengers for genuine users. Action: Classify as Genuine (Low Fraud Risk).\",\n",
    "        \"metadata\": {\n",
    "            \"rule_number\": 12,\n",
    "            \"category\": \"Dependent Ticket Behavior Rules\",\n",
    "            \"risk_level\": \"Low\",\n",
    "            \"classification\": \"Genuine\",\n",
    "            \"metric\": \"dependent_ticket_count\",\n",
    "            \"threshold_min\": 0,\n",
    "            \"threshold_max\": 3\n",
    "        }\n",
    "    },\n",
    "    {\n",
    "        \"id\": \"rule_13\",\n",
    "        \"text\": \"Flag transactions with 3 to 4 dependent tickets. Reason: Higher dependent count may indicate ticket reselling behavior. Action: Classify as Fraudulent (High Fraud Risk).\",\n",
    "        \"metadata\": {\n",
    "            \"rule_number\": 13,\n",
    "            \"category\": \"Dependent Ticket Behavior Rules\",\n",
    "            \"risk_level\": \"High\",\n",
    "            \"classification\": \"Fraudulent\",\n",
    "            \"metric\": \"dependent_ticket_count\",\n",
    "            \"threshold_min\": 3,\n",
    "            \"threshold_max\": 4\n",
    "        }\n",
    "    },\n",
    "    {\n",
    "        \"id\": \"rule_14\",\n",
    "        \"text\": \"Flag users whose average dependent transaction ratio over the last 28 days ranges between 0 and 0.41. Reason: Balanced, human-like dependent booking behavior. Action: Classify as Genuine (Low Fraud Risk).\",\n",
    "        \"metadata\": {\n",
    "            \"rule_number\": 14,\n",
    "            \"category\": \"Dependent Ticket Behavior Rules\",\n",
    "            \"risk_level\": \"Low\",\n",
    "            \"classification\": \"Genuine\",\n",
    "            \"metric\": \"avg_dependent_ratio_28d\",\n",
    "            \"threshold_min\": 0,\n",
    "            \"threshold_max\": 0.41,\n",
    "            \"time_window\": \"28_days\"\n",
    "        }\n",
    "    },\n",
    "    {\n",
    "        \"id\": \"rule_15\",\n",
    "        \"text\": \"Flag users whose average dependent transaction ratio over the last 28 days ranges between 0.5 and 1. Reason: Excessive dependent usage—possible fraudulent bulk booking. Action: Classify as Fraudulent (High Fraud Risk).\",\n",
    "        \"metadata\": {\n",
    "            \"rule_number\": 15,\n",
    "            \"category\": \"Dependent Ticket Behavior Rules\",\n",
    "            \"risk_level\": \"High\",\n",
    "            \"classification\": \"Fraudulent\",\n",
    "            \"metric\": \"avg_dependent_ratio_28d\",\n",
    "            \"threshold_min\": 0.5,\n",
    "            \"threshold_max\": 1,\n",
    "            \"time_window\": \"28_days\"\n",
    "        }\n",
    "    },\n",
    "    \n",
    "    # 🎟 Ticket Count-Based Rules\n",
    "    {\n",
    "        \"id\": \"rule_16\",\n",
    "        \"text\": \"Flag transactions where number of tickets per transaction ranges between 1 and 3 or 4. Reason: Normal passenger booking behavior. Action: Classify as Genuine (Low Fraud Risk).\",\n",
    "        \"metadata\": {\n",
    "            \"rule_number\": 16,\n",
    "            \"category\": \"Ticket Count-Based Rules\",\n",
    "            \"risk_level\": \"Low\",\n",
    "            \"classification\": \"Genuine\",\n",
    "            \"metric\": \"tickets_per_transaction\",\n",
    "            \"threshold_min\": 1,\n",
    "            \"threshold_max\": 4\n",
    "        }\n",
    "    },\n",
    "    {\n",
    "        \"id\": \"rule_17\",\n",
    "        \"text\": \"Flag transactions with 4 or 5 tickets. Reason: High-volume purchase per transaction—possible fraud or resale activity. Action: Classify as Fraudulent (High Fraud Risk).\",\n",
    "        \"metadata\": {\n",
    "            \"rule_number\": 17,\n",
    "            \"category\": \"Ticket Count-Based Rules\",\n",
    "            \"risk_level\": \"High\",\n",
    "            \"classification\": \"Fraudulent\",\n",
    "            \"metric\": \"tickets_per_transaction\",\n",
    "            \"threshold_min\": 4,\n",
    "            \"threshold_max\": 5\n",
    "        }\n",
    "    },\n",
    "    {\n",
    "        \"id\": \"rule_18\",\n",
    "        \"text\": \"Flag users with an average of 1 to 3 tickets per transaction. Reason: Normal booking size for genuine users. Action: Classify as Genuine (Low Fraud Risk).\",\n",
    "        \"metadata\": {\n",
    "            \"rule_number\": 18,\n",
    "            \"category\": \"Ticket Count-Based Rules\",\n",
    "            \"risk_level\": \"Low\",\n",
    "            \"classification\": \"Genuine\",\n",
    "            \"metric\": \"avg_tickets_per_transaction\",\n",
    "            \"threshold_min\": 1,\n",
    "            \"threshold_max\": 3\n",
    "        }\n",
    "    },\n",
    "    {\n",
    "        \"id\": \"rule_19\",\n",
    "        \"text\": \"Flag users with an average of 4 or 5 tickets per transaction. Reason: Consistently high ticket count per booking—possible automated group booking or ticket hoarding. Action: Classify as Fraudulent (High Fraud Risk).\",\n",
    "        \"metadata\": {\n",
    "            \"rule_number\": 19,\n",
    "            \"category\": \"Ticket Count-Based Rules\",\n",
    "            \"risk_level\": \"High\",\n",
    "            \"classification\": \"Fraudulent\",\n",
    "            \"metric\": \"avg_tickets_per_transaction\",\n",
    "            \"threshold_min\": 4,\n",
    "            \"threshold_max\": 5\n",
    "        }\n",
    "    },\n",
    "    \n",
    "    # 🚆 Ticket Class Usage Rules\n",
    "    {\n",
    "        \"id\": \"rule_20\",\n",
    "        \"text\": \"Flag users who buy tickets across multiple classes (e.g., Class 1, 2, 3, Observation Saloon). Reason: Diverse travel patterns—normal behavior. Action: Classify as Genuine (Low Fraud Risk).\",\n",
    "        \"metadata\": {\n",
    "            \"rule_number\": 20,\n",
    "            \"category\": \"Ticket Class Usage Rules\",\n",
    "            \"risk_level\": \"Low\",\n",
    "            \"classification\": \"Genuine\",\n",
    "            \"metric\": \"ticket_class_diversity\",\n",
    "            \"pattern\": \"multiple_classes\"\n",
    "        }\n",
    "    },\n",
    "    {\n",
    "        \"id\": \"rule_21\",\n",
    "        \"text\": \"Flag users who buy tickets only in Class 1 or Observation Saloon. Reason: Narrow purchase pattern targeting premium classes—possible reseller activity. Action: Classify as Fraudulent (High Fraud Risk).\",\n",
    "        \"metadata\": {\n",
    "            \"rule_number\": 21,\n",
    "            \"category\": \"Ticket Class Usage Rules\",\n",
    "            \"risk_level\": \"High\",\n",
    "            \"classification\": \"Fraudulent\",\n",
    "            \"metric\": \"ticket_class_diversity\",\n",
    "            \"pattern\": \"premium_only\",\n",
    "            \"classes\": [\"Class 1\", \"Observation Saloon\"]\n",
    "        }\n",
    "    },\n",
    "    \n",
    "    # 🗺 Route Pattern-Based Rules\n",
    "    {\n",
    "        \"id\": \"rule_22\",\n",
    "        \"text\": \"Flag users who consistently book only 'Kandy → Colombo' or 'Colombo → Kandy' routes. Reason: Repeated booking on popular routes—possible automated bulk booking attempt. Action: Classify as Fraudulent (High Fraud Risk).\",\n",
    "        \"metadata\": {\n",
    "            \"rule_number\": 22,\n",
    "            \"category\": \"Route Pattern-Based Rules\",\n",
    "            \"risk_level\": \"High\",\n",
    "            \"classification\": \"Fraudulent\",\n",
    "            \"metric\": \"route_diversity\",\n",
    "            \"pattern\": \"single_route_repeated\",\n",
    "            \"routes\": [\"Kandy → Colombo\", \"Colombo → Kandy\"]\n",
    "        }\n",
    "    }\n",
    "]"
   ]
  },
  {
   "cell_type": "code",
   "execution_count": 2,
   "id": "51f8f773",
   "metadata": {},
   "outputs": [
    {
     "name": "stderr",
     "output_type": "stream",
     "text": [
      "C:\\Users\\Amantha\\AppData\\Local\\Temp\\ipykernel_599068\\1951281138.py:9: LangChainDeprecationWarning: The class `HuggingFaceEmbeddings` was deprecated in LangChain 0.2.2 and will be removed in 1.0. An updated version of the class exists in the :class:`~langchain-huggingface package and should be used instead. To use it run `pip install -U :class:`~langchain-huggingface` and import as `from :class:`~langchain_huggingface import HuggingFaceEmbeddings``.\n",
      "  embeddings = HuggingFaceEmbeddings(\n",
      "c:\\Users\\Amantha\\.conda\\envs\\medibot\\lib\\site-packages\\tqdm\\auto.py:21: TqdmWarning: IProgress not found. Please update jupyter and ipywidgets. See https://ipywidgets.readthedocs.io/en/stable/user_install.html\n",
      "  from .autonotebook import tqdm as notebook_tqdm\n"
     ]
    }
   ],
   "source": [
    "# embedding model\n",
    "from langchain.embeddings import HuggingFaceEmbeddings\n",
    "\n",
    "def download_embeddings():\n",
    "    \"\"\"\n",
    "    Download and return the hugging face embedding model\n",
    "    \"\"\"\n",
    "    model_name = \"sentence-transformers/all-MiniLM-L6-v2\"\n",
    "    embeddings = HuggingFaceEmbeddings(\n",
    "        model_name = model_name\n",
    "    )\n",
    "    return embeddings\n",
    "\n",
    "embedding = download_embeddings()"
   ]
  },
  {
   "cell_type": "code",
   "execution_count": 11,
   "id": "abb9b698",
   "metadata": {},
   "outputs": [
    {
     "data": {
      "text/plain": [
       "HuggingFaceEmbeddings(client=SentenceTransformer(\n",
       "  (0): Transformer({'max_seq_length': 256, 'do_lower_case': False}) with Transformer model: BertModel \n",
       "  (1): Pooling({'word_embedding_dimension': 384, 'pooling_mode_cls_token': False, 'pooling_mode_mean_tokens': True, 'pooling_mode_max_tokens': False, 'pooling_mode_mean_sqrt_len_tokens': False, 'pooling_mode_weightedmean_tokens': False, 'pooling_mode_lasttoken': False, 'include_prompt': True})\n",
       "  (2): Normalize()\n",
       "), model_name='sentence-transformers/all-MiniLM-L6-v2', cache_folder=None, model_kwargs={}, encode_kwargs={}, multi_process=False, show_progress=False)"
      ]
     },
     "execution_count": 11,
     "metadata": {},
     "output_type": "execute_result"
    }
   ],
   "source": [
    "embedding"
   ]
  },
  {
   "cell_type": "code",
   "execution_count": 12,
   "id": "a283c66c",
   "metadata": {},
   "outputs": [
    {
     "data": {
      "text/plain": [
       "[-0.034477200359106064,\n",
       " 0.031023219227790833,\n",
       " 0.0067349993623793125,\n",
       " 0.02610897459089756,\n",
       " -0.03936201333999634,\n",
       " -0.16030248999595642,\n",
       " 0.06692397594451904,\n",
       " -0.006441470701247454,\n",
       " -0.04745051637291908,\n",
       " 0.014758859761059284,\n",
       " 0.07087533175945282,\n",
       " 0.05552757531404495,\n",
       " 0.019193289801478386,\n",
       " -0.026251329109072685,\n",
       " -0.010109508410096169,\n",
       " -0.026940548792481422,\n",
       " 0.022307483479380608,\n",
       " -0.022226618602871895,\n",
       " -0.14969265460968018,\n",
       " -0.01749304309487343,\n",
       " 0.007676269859075546,\n",
       " 0.05435226485133171,\n",
       " 0.003254482988268137,\n",
       " 0.03172600269317627,\n",
       " -0.0846213772892952,\n",
       " -0.02940598875284195,\n",
       " 0.051595672965049744,\n",
       " 0.04812409356236458,\n",
       " -0.003314794274047017,\n",
       " -0.05827922374010086,\n",
       " 0.041969284415245056,\n",
       " 0.022210709750652313,\n",
       " 0.1281888633966446,\n",
       " -0.022338956594467163,\n",
       " -0.011656241491436958,\n",
       " 0.06292833387851715,\n",
       " -0.032876305282115936,\n",
       " -0.09122610837221146,\n",
       " -0.03117538057267666,\n",
       " 0.05269957706332207,\n",
       " 0.047034792602062225,\n",
       " -0.08420304954051971,\n",
       " -0.0300561785697937,\n",
       " -0.020744718611240387,\n",
       " 0.009517784230411053,\n",
       " -0.003721792483702302,\n",
       " 0.007343328557908535,\n",
       " 0.03932436183094978,\n",
       " 0.09327410906553268,\n",
       " -0.0037885827478021383,\n",
       " -0.052742086350917816,\n",
       " -0.05805819109082222,\n",
       " -0.0068643949925899506,\n",
       " 0.005283229053020477,\n",
       " 0.08289298415184021,\n",
       " 0.019362755119800568,\n",
       " 0.0062844837084412575,\n",
       " -0.010330805554986,\n",
       " 0.009032356552779675,\n",
       " -0.037683770060539246,\n",
       " -0.04520607367157936,\n",
       " 0.02401638962328434,\n",
       " -0.0069442023523151875,\n",
       " 0.013491633348166943,\n",
       " 0.10005491971969604,\n",
       " -0.071683868765831,\n",
       " -0.02169504575431347,\n",
       " 0.03161846846342087,\n",
       " -0.05163463577628136,\n",
       " -0.08224768191576004,\n",
       " -0.06569331139326096,\n",
       " -0.00989536102861166,\n",
       " 0.0058163986541330814,\n",
       " 0.07355453819036484,\n",
       " -0.03405030816793442,\n",
       " 0.02488601580262184,\n",
       " 0.01448806282132864,\n",
       " 0.026457400992512703,\n",
       " 0.009656714275479317,\n",
       " 0.030217286199331284,\n",
       " 0.052803970873355865,\n",
       " -0.07535988092422485,\n",
       " 0.009897174313664436,\n",
       " 0.029836837202310562,\n",
       " 0.017555566504597664,\n",
       " 0.023091990500688553,\n",
       " 0.0019339261343702674,\n",
       " 0.0014001254457980394,\n",
       " -0.04717599228024483,\n",
       " -0.011194380931556225,\n",
       " -0.11420133709907532,\n",
       " -0.019812004640698433,\n",
       " 0.04026623070240021,\n",
       " 0.0021929889917373657,\n",
       " -0.07979222387075424,\n",
       " -0.02538231387734413,\n",
       " 0.09448292851448059,\n",
       " -0.02898111194372177,\n",
       " -0.14500252902507782,\n",
       " 0.23097743093967438,\n",
       " 0.027731100097298622,\n",
       " 0.032111480832099915,\n",
       " 0.031064996495842934,\n",
       " 0.04283281788229942,\n",
       " 0.06423777341842651,\n",
       " 0.03216314688324928,\n",
       " -0.00487674493342638,\n",
       " 0.055699415504932404,\n",
       " -0.03753236308693886,\n",
       " -0.0215055663138628,\n",
       " -0.028342649340629578,\n",
       " -0.028846941888332367,\n",
       " 0.03835311904549599,\n",
       " -0.01746867224574089,\n",
       " 0.05248536914587021,\n",
       " -0.07487605512142181,\n",
       " -0.03125976398587227,\n",
       " 0.021841533482074738,\n",
       " -0.03989564999938011,\n",
       " -0.008587109856307507,\n",
       " 0.026956573128700256,\n",
       " -0.04849550500512123,\n",
       " 0.011469874531030655,\n",
       " 0.029618263244628906,\n",
       " -0.020572170615196228,\n",
       " 0.013103901408612728,\n",
       " 0.028833406046032906,\n",
       " -3.194200554190157e-33,\n",
       " 0.0647820383310318,\n",
       " -0.018130239099264145,\n",
       " 0.051789943128824234,\n",
       " 0.12198273092508316,\n",
       " 0.028780145570635796,\n",
       " 0.0087220324203372,\n",
       " -0.07052115350961685,\n",
       " -0.01690724864602089,\n",
       " 0.040739696472883224,\n",
       " 0.042116180062294006,\n",
       " 0.02544722706079483,\n",
       " 0.03574619069695473,\n",
       " -0.04914474114775658,\n",
       " 0.002129100728780031,\n",
       " -0.015546616166830063,\n",
       " 0.05073058605194092,\n",
       " -0.048185259103775024,\n",
       " 0.03588063269853592,\n",
       " -0.004067067988216877,\n",
       " 0.10172475874423981,\n",
       " -0.05597001686692238,\n",
       " -0.010680987499654293,\n",
       " 0.011235800571739674,\n",
       " 0.09068652987480164,\n",
       " 0.004234495107084513,\n",
       " 0.035138655453920364,\n",
       " -0.009702835232019424,\n",
       " -0.09386523813009262,\n",
       " 0.09285551309585571,\n",
       " 0.00800494384020567,\n",
       " -0.007705416064709425,\n",
       " -0.052086714655160904,\n",
       " -0.012587959878146648,\n",
       " 0.0032668698113411665,\n",
       " 0.0060135237872600555,\n",
       " 0.007581581827253103,\n",
       " 0.010517198592424393,\n",
       " -0.08634552359580994,\n",
       " -0.06987876445055008,\n",
       " -0.0025338700506836176,\n",
       " -0.09097661077976227,\n",
       " 0.04688737168908119,\n",
       " 0.05207647755742073,\n",
       " 0.007193892262876034,\n",
       " 0.010903597809374332,\n",
       " -0.005229538772255182,\n",
       " 0.013937323354184628,\n",
       " 0.02196837216615677,\n",
       " 0.03420856222510338,\n",
       " 0.060224637389183044,\n",
       " 0.00011661044845823199,\n",
       " 0.014731992967426777,\n",
       " -0.07008922845125198,\n",
       " 0.02849903516471386,\n",
       " -0.027601642534136772,\n",
       " 0.010768351145088673,\n",
       " 0.03483092412352562,\n",
       " -0.022487878799438477,\n",
       " 0.00976911373436451,\n",
       " 0.07722778618335724,\n",
       " 0.021588344126939774,\n",
       " 0.11495622247457504,\n",
       " -0.06800113618373871,\n",
       " 0.023761043325066566,\n",
       " -0.015983911231160164,\n",
       " -0.01782696507871151,\n",
       " 0.06439494341611862,\n",
       " 0.03202573582530022,\n",
       " 0.05027022957801819,\n",
       " -0.005913649220019579,\n",
       " -0.03370799124240875,\n",
       " 0.017840316519141197,\n",
       " 0.01657339744269848,\n",
       " 0.06329654157161713,\n",
       " 0.03467720001935959,\n",
       " 0.04647345840930939,\n",
       " 0.09790614992380142,\n",
       " -0.006635494064539671,\n",
       " 0.02520708367228508,\n",
       " -0.0779883861541748,\n",
       " 0.01692640222609043,\n",
       " -0.0009457881096750498,\n",
       " 0.02247185818850994,\n",
       " -0.038253240287303925,\n",
       " 0.09570475667715073,\n",
       " -0.00535071175545454,\n",
       " 0.010469038039445877,\n",
       " -0.11524058878421783,\n",
       " -0.013262532651424408,\n",
       " -0.010709351859986782,\n",
       " -0.08311721682548523,\n",
       " 0.07327357679605484,\n",
       " 0.049392201006412506,\n",
       " -0.008994361385703087,\n",
       " -0.09584556519985199,\n",
       " 3.366149296434549e-33,\n",
       " 0.12493181973695755,\n",
       " 0.019349709153175354,\n",
       " -0.0582258477807045,\n",
       " -0.03598824888467789,\n",
       " -0.050746746361255646,\n",
       " -0.04566233605146408,\n",
       " -0.08260342478752136,\n",
       " 0.14819477498531342,\n",
       " -0.08842117339372635,\n",
       " 0.06027441471815109,\n",
       " 0.05103025957942009,\n",
       " 0.010303089395165443,\n",
       " 0.14121423661708832,\n",
       " 0.030813878402113914,\n",
       " 0.06103307381272316,\n",
       " -0.05285125970840454,\n",
       " 0.13664892315864563,\n",
       " 0.009189915843307972,\n",
       " -0.017325272783637047,\n",
       " -0.012848668731749058,\n",
       " -0.00799528043717146,\n",
       " -0.05098002031445503,\n",
       " -0.052350591868162155,\n",
       " 0.007593057118356228,\n",
       " -0.015166228637099266,\n",
       " 0.016960326582193375,\n",
       " 0.021270541474223137,\n",
       " 0.02055799402296543,\n",
       " -0.1200280711054802,\n",
       " 0.014461806043982506,\n",
       " 0.02675984986126423,\n",
       " 0.025330591946840286,\n",
       " -0.0427546426653862,\n",
       " 0.006768474821001291,\n",
       " -0.01445858832448721,\n",
       " 0.045261986553668976,\n",
       " -0.09147657454013824,\n",
       " -0.019439177587628365,\n",
       " -0.017833461984992027,\n",
       " -0.05491012707352638,\n",
       " -0.052641063928604126,\n",
       " -0.010459036566317081,\n",
       " -0.05201602354645729,\n",
       " 0.020892051979899406,\n",
       " -0.07997025549411774,\n",
       " -0.012111312709748745,\n",
       " -0.05773141607642174,\n",
       " 0.02317824214696884,\n",
       " -0.00803161971271038,\n",
       " -0.025989310815930367,\n",
       " -0.07995670288801193,\n",
       " -0.02072887495160103,\n",
       " 0.048817772418260574,\n",
       " -0.02038920484483242,\n",
       " -0.049176573753356934,\n",
       " 0.01415967382490635,\n",
       " -0.06362210959196091,\n",
       " -0.007807392161339521,\n",
       " 0.016431482508778572,\n",
       " -0.02568255178630352,\n",
       " 0.01338108442723751,\n",
       " 0.026248762384057045,\n",
       " 0.009978335350751877,\n",
       " 0.06322894990444183,\n",
       " 0.0026721502654254436,\n",
       " -0.006582724861800671,\n",
       " 0.016632026061415672,\n",
       " 0.03236645832657814,\n",
       " 0.03794251009821892,\n",
       " -0.036376021802425385,\n",
       " -0.006910946220159531,\n",
       " 0.00015967455692589283,\n",
       " -0.001633585779927671,\n",
       " -0.02727823331952095,\n",
       " -0.028038015589118004,\n",
       " 0.04968152567744255,\n",
       " -0.028867164626717567,\n",
       " -0.002418051240965724,\n",
       " 0.014774874784052372,\n",
       " 0.009764568880200386,\n",
       " 0.005797559395432472,\n",
       " 0.013486078940331936,\n",
       " 0.005567895248532295,\n",
       " 0.0372270792722702,\n",
       " 0.007232493255287409,\n",
       " 0.04015621170401573,\n",
       " 0.08150321245193481,\n",
       " 0.07199164479970932,\n",
       " -0.01305615995079279,\n",
       " -0.04288202524185181,\n",
       " -0.011011214926838875,\n",
       " 0.004897830542176962,\n",
       " -0.009229752235114574,\n",
       " 0.03519146889448166,\n",
       " -0.05103498697280884,\n",
       " -1.5714373802211412e-08,\n",
       " -0.08862444013357162,\n",
       " 0.0239093154668808,\n",
       " -0.01623874343931675,\n",
       " 0.03170047700405121,\n",
       " 0.027284175157546997,\n",
       " 0.05246879905462265,\n",
       " -0.04707096517086029,\n",
       " -0.058847445994615555,\n",
       " -0.0632082149386406,\n",
       " 0.04088853672146797,\n",
       " 0.049827940762043,\n",
       " 0.10655166208744049,\n",
       " -0.07450233399868011,\n",
       " -0.012495458126068115,\n",
       " 0.018370643258094788,\n",
       " 0.039474066346883774,\n",
       " -0.024797869846224785,\n",
       " 0.01451625395566225,\n",
       " -0.03706921264529228,\n",
       " 0.020015696063637733,\n",
       " -4.8594301915727556e-05,\n",
       " 0.00986657477915287,\n",
       " 0.024838784709572792,\n",
       " -0.05245809629559517,\n",
       " 0.029314136132597923,\n",
       " -0.08719196915626526,\n",
       " -0.014499745331704617,\n",
       " 0.026019057258963585,\n",
       " -0.018746383488178253,\n",
       " -0.07620513439178467,\n",
       " 0.035043250769376755,\n",
       " 0.10363949090242386,\n",
       " -0.02805054932832718,\n",
       " 0.012718234211206436,\n",
       " -0.07632549107074738,\n",
       " -0.018652433529496193,\n",
       " 0.02497669868171215,\n",
       " 0.08144541829824448,\n",
       " 0.06875890493392944,\n",
       " -0.0640566349029541,\n",
       " -0.08389392495155334,\n",
       " 0.061362382024526596,\n",
       " -0.033545587211847305,\n",
       " -0.10615341365337372,\n",
       " -0.04008050262928009,\n",
       " 0.03253019228577614,\n",
       " 0.07662486284971237,\n",
       " -0.07301613688468933,\n",
       " 0.0003375994274392724,\n",
       " -0.04087162762880325,\n",
       " -0.0757884681224823,\n",
       " 0.027527686208486557,\n",
       " 0.07462546974420547,\n",
       " 0.01771729253232479,\n",
       " 0.09121839702129364,\n",
       " 0.11022018641233444,\n",
       " 0.0005698270397260785,\n",
       " 0.05146332085132599,\n",
       " -0.014551276341080666,\n",
       " 0.03323199599981308,\n",
       " 0.023792244493961334,\n",
       " -0.022889798507094383,\n",
       " 0.03893755376338959,\n",
       " 0.030206795781850815]"
      ]
     },
     "execution_count": 12,
     "metadata": {},
     "output_type": "execute_result"
    }
   ],
   "source": [
    "# check model is working\n",
    "vector = embedding.embed_query(\"Hello world\")\n",
    "vector"
   ]
  },
  {
   "cell_type": "code",
   "execution_count": 13,
   "id": "cad800a4",
   "metadata": {},
   "outputs": [
    {
     "name": "stdout",
     "output_type": "stream",
     "text": [
      "vector length: 384\n"
     ]
    }
   ],
   "source": [
    "print(\"vector length:\", len(vector))"
   ]
  },
  {
   "cell_type": "code",
   "execution_count": 3,
   "id": "ced70513",
   "metadata": {},
   "outputs": [
    {
     "data": {
      "text/plain": [
       "True"
      ]
     },
     "execution_count": 3,
     "metadata": {},
     "output_type": "execute_result"
    }
   ],
   "source": [
    "# load .env file\n",
    "from dotenv import load_dotenv\n",
    "import os\n",
    "load_dotenv()"
   ]
  },
  {
   "cell_type": "code",
   "execution_count": 4,
   "id": "e8cf1617",
   "metadata": {},
   "outputs": [],
   "source": [
    "PINECONE_API_KEY = os.getenv(\"PINECONE_API_KEY\")\n",
    "GOOGLE_API_KEY = os.getenv(\"GOOGLE_API_KEY\")\n",
    "\n",
    "os.environ[\"PINECOEN_API_KEY\"] = PINECONE_API_KEY\n",
    "os.environ[\"GOOGLE_API_KEY\"] = GOOGLE_API_KEY"
   ]
  },
  {
   "cell_type": "code",
   "execution_count": 5,
   "id": "4cb9e718",
   "metadata": {},
   "outputs": [],
   "source": [
    "# import pinecone\n",
    "from pinecone import Pinecone\n",
    "pinecone_api_key = PINECONE_API_KEY\n",
    "\n",
    "# authenticate pinecone account\n",
    "pc = Pinecone(api_key=pinecone_api_key)"
   ]
  },
  {
   "cell_type": "code",
   "execution_count": 7,
   "id": "de4e6031",
   "metadata": {},
   "outputs": [
    {
     "data": {
      "text/plain": [
       "<pinecone.pinecone.Pinecone at 0x1b09023f2e0>"
      ]
     },
     "execution_count": 7,
     "metadata": {},
     "output_type": "execute_result"
    }
   ],
   "source": [
    "pc"
   ]
  },
  {
   "cell_type": "code",
   "execution_count": 6,
   "id": "60e0e918",
   "metadata": {},
   "outputs": [],
   "source": [
    "# create database in pinecone\n",
    "from pinecone import ServerlessSpec\n",
    "\n",
    "index_name = \"railway-rules-new\"\n",
    "\n",
    "if not pc.has_index(index_name):\n",
    "    pc.create_index(\n",
    "        name = index_name,\n",
    "        dimension = 384, # dimension of the embedding\n",
    "        metric = \"cosine\",\n",
    "        spec = ServerlessSpec(cloud=\"aws\", region=\"us-east-1\")\n",
    "    )\n",
    "\n",
    "index = pc.Index(index_name) \n"
   ]
  },
  {
   "cell_type": "code",
   "execution_count": 23,
   "id": "979e7b8c",
   "metadata": {},
   "outputs": [],
   "source": [
    "# ===========================\n",
    "# 5. INSERT RULES INTO PINECONE\n",
    "# ===========================\n",
    "def insert_rules_to_pinecone(rules, index, embedding_model):\n",
    "    \"\"\"\n",
    "    Insert fraud detection rules into Pinecone with embeddings\n",
    "    \"\"\"\n",
    "    vectors_to_upsert = []\n",
    "    \n",
    "    for rule in rules:\n",
    "        # Generate embedding for the rule text\n",
    "        rule_embedding = embedding_model.embed_query(rule[\"text\"])\n",
    "        \n",
    "        # Prepare metadata (Pinecone only supports simple types in metadata)\n",
    "        metadata = {\n",
    "            \"text\": rule[\"text\"],\n",
    "            \"rule_number\": rule[\"metadata\"][\"rule_number\"],\n",
    "            \"category\": rule[\"metadata\"][\"category\"],\n",
    "            \"risk_level\": rule[\"metadata\"][\"risk_level\"],\n",
    "            \"classification\": rule[\"metadata\"][\"classification\"],\n",
    "            \"metric\": rule[\"metadata\"][\"metric\"]\n",
    "        }\n",
    "        \n",
    "        # Add optional fields if they exist\n",
    "        if \"threshold_min\" in rule[\"metadata\"]:\n",
    "            metadata[\"threshold_min\"] = float(rule[\"metadata\"][\"threshold_min\"])\n",
    "        if \"threshold_max\" in rule[\"metadata\"]:\n",
    "            metadata[\"threshold_max\"] = float(rule[\"metadata\"][\"threshold_max\"])\n",
    "        if \"unit\" in rule[\"metadata\"]:\n",
    "            metadata[\"unit\"] = rule[\"metadata\"][\"unit\"]\n",
    "        if \"time_window\" in rule[\"metadata\"]:\n",
    "            metadata[\"time_window\"] = rule[\"metadata\"][\"time_window\"]\n",
    "        if \"pattern\" in rule[\"metadata\"]:\n",
    "            metadata[\"pattern\"] = rule[\"metadata\"][\"pattern\"]\n",
    "        if \"user_type\" in rule[\"metadata\"]:\n",
    "            metadata[\"user_type\"] = rule[\"metadata\"][\"user_type\"]\n",
    "        if \"special_value\" in rule[\"metadata\"]:\n",
    "            metadata[\"special_value\"] = int(rule[\"metadata\"][\"special_value\"])\n",
    "        \n",
    "        # Prepare vector for upsert\n",
    "        vectors_to_upsert.append({\n",
    "            \"id\": rule[\"id\"],\n",
    "            \"values\": rule_embedding,\n",
    "            \"metadata\": metadata\n",
    "        })\n",
    "    \n",
    "    # Upsert vectors in batches (Pinecone recommends batch size of 100)\n",
    "    batch_size = 100\n",
    "    for i in range(0, len(vectors_to_upsert), batch_size):\n",
    "        batch = vectors_to_upsert[i:i + batch_size]\n",
    "        index.upsert(vectors=batch)\n",
    "        print(f\"Inserted batch {i//batch_size + 1}: {len(batch)} rules\")\n",
    "    \n",
    "    print(f\"\\n✅ Successfully inserted {len(rules)} rules into Pinecone!\")\n",
    "    \n",
    "    # Get index stats\n",
    "    stats = index.describe_index_stats()\n",
    "    print(f\"📊 Index stats: {stats}\")"
   ]
  },
  {
   "cell_type": "code",
   "execution_count": 24,
   "id": "5e287184",
   "metadata": {},
   "outputs": [
    {
     "name": "stdout",
     "output_type": "stream",
     "text": [
      "Inserted batch 1: 22 rules\n",
      "\n",
      "✅ Successfully inserted 22 rules into Pinecone!\n",
      "📊 Index stats: {'dimension': 384,\n",
      " 'index_fullness': 0.0,\n",
      " 'metric': 'cosine',\n",
      " 'namespaces': {},\n",
      " 'total_vector_count': 0,\n",
      " 'vector_type': 'dense'}\n"
     ]
    }
   ],
   "source": [
    "# Insert all rules\n",
    "insert_rules_to_pinecone(railway_fraud_rules, index, embedding)"
   ]
  },
  {
   "cell_type": "code",
   "execution_count": 20,
   "id": "481b6f3f",
   "metadata": {},
   "outputs": [
    {
     "ename": "NameError",
     "evalue": "name 'texts_chunk' is not defined",
     "output_type": "error",
     "traceback": [
      "\u001b[1;31m---------------------------------------------------------------------------\u001b[0m",
      "\u001b[1;31mNameError\u001b[0m                                 Traceback (most recent call last)",
      "Cell \u001b[1;32mIn[20], line 6\u001b[0m\n\u001b[0;32m      1\u001b[0m \u001b[38;5;66;03m# create embeddings for our pdf chunks\u001b[39;00m\n\u001b[0;32m      3\u001b[0m \u001b[38;5;28;01mfrom\u001b[39;00m\u001b[38;5;250m \u001b[39m\u001b[38;5;21;01mlangchain_pinecone\u001b[39;00m\u001b[38;5;250m \u001b[39m\u001b[38;5;28;01mimport\u001b[39;00m PineconeVectorStore\n\u001b[0;32m      5\u001b[0m docsearch \u001b[38;5;241m=\u001b[39m PineconeVectorStore\u001b[38;5;241m.\u001b[39mfrom_documents(\n\u001b[1;32m----> 6\u001b[0m     documents \u001b[38;5;241m=\u001b[39m \u001b[43mtexts_chunk\u001b[49m,\n\u001b[0;32m      7\u001b[0m     embedding \u001b[38;5;241m=\u001b[39m embedding,\n\u001b[0;32m      8\u001b[0m     index_name \u001b[38;5;241m=\u001b[39m index_name\n\u001b[0;32m      9\u001b[0m )\n",
      "\u001b[1;31mNameError\u001b[0m: name 'texts_chunk' is not defined"
     ]
    }
   ],
   "source": [
    "# create embeddings for our pdf chunks\n",
    "\n",
    "from langchain_pinecone import PineconeVectorStore\n",
    "\n",
    "docsearch = PineconeVectorStore.from_documents(\n",
    "    documents = texts_chunk,\n",
    "    embedding = embedding,\n",
    "    index_name = index_name\n",
    ")"
   ]
  },
  {
   "cell_type": "code",
   "execution_count": 7,
   "id": "6c5f1e00",
   "metadata": {},
   "outputs": [],
   "source": [
    "# Load existing index\n",
    "\n",
    "from langchain_pinecone import PineconeVectorStore\n",
    "\n",
    "docsearch = PineconeVectorStore.from_existing_index(\n",
    "    index_name = index_name,\n",
    "    embedding = embedding\n",
    ")"
   ]
  },
  {
   "cell_type": "markdown",
   "id": "e863a8cd",
   "metadata": {},
   "source": [
    "### Add more data to the existing pinecone index"
   ]
  },
  {
   "cell_type": "code",
   "execution_count": 4,
   "id": "bad10b55",
   "metadata": {},
   "outputs": [],
   "source": [
    "# create dummy document\n",
    "dswith = Document(\n",
    "    page_content=\"dswithbappy is a youtube channel that provides tutorials on various topics.\",\n",
    "    metadata={\"source\": \"youtube\"}\n",
    ")"
   ]
  },
  {
   "cell_type": "code",
   "execution_count": 18,
   "id": "39c3db5a",
   "metadata": {},
   "outputs": [
    {
     "data": {
      "text/plain": [
       "['66e3a354-e572-4197-8e97-b8c89ca2a55d']"
      ]
     },
     "execution_count": 18,
     "metadata": {},
     "output_type": "execute_result"
    }
   ],
   "source": [
    "# store too existing pinecone index\n",
    "docsearch.add_documents(documents=[dswith])"
   ]
  },
  {
   "cell_type": "markdown",
   "id": "942e24bc",
   "metadata": {},
   "source": [
    "Now pinecone vector DB is ready.\n",
    "\n",
    "### Now connect it with LLM"
   ]
  },
  {
   "cell_type": "code",
   "execution_count": 8,
   "id": "2e8ab30a",
   "metadata": {},
   "outputs": [],
   "source": [
    "retriever = docsearch.as_retriever(search_type=\"similarity\", search_kwargs={\"k\":7})"
   ]
  },
  {
   "cell_type": "code",
   "execution_count": 9,
   "id": "6b66ef6c",
   "metadata": {},
   "outputs": [
    {
     "name": "stdout",
     "output_type": "stream",
     "text": [
      "============================================================\n",
      "TEST 1: Basic Retriever Test\n",
      "============================================================\n"
     ]
    },
    {
     "name": "stderr",
     "output_type": "stream",
     "text": [
      "C:\\Users\\Amantha\\AppData\\Local\\Temp\\ipykernel_599068\\3527517262.py:9: LangChainDeprecationWarning: The method `BaseRetriever.get_relevant_documents` was deprecated in langchain-core 0.1.46 and will be removed in 1.0. Use :meth:`~invoke` instead.\n",
      "  retrieved_docs = retriever.get_relevant_documents(test_query)\n"
     ]
    },
    {
     "name": "stdout",
     "output_type": "stream",
     "text": [
      "\n",
      "Query: 'User completed booking in 2 minutes'\n",
      "\n",
      "Retrieved 7 documents:\n",
      "\n",
      "\n",
      "==================================================\n",
      "Result 1:\n",
      "==================================================\n",
      "Content: Flag users whose average transaction completion time over the last 28 days is between 0 to 4 minutes. Reason: Consistently rapid transactions—possible automated booking. Action: Classify as Fraudulent (High Fraud Risk).\n",
      "\n",
      "Metadata:\n",
      "  - category: Transaction Completion Time-Based Rules\n",
      "  - classification: Fraudulent\n",
      "  - metric: avg_completion_time_28d\n",
      "  - risk_level: High\n",
      "  - rule_number: 4.0\n",
      "  - threshold_max: 4.0\n",
      "  - threshold_min: 0.0\n",
      "  - time_window: 28_days\n",
      "  - unit: minutes\n",
      "\n",
      "==================================================\n",
      "Result 2:\n",
      "==================================================\n",
      "Content: Flag transactions where completion time is between 4 to 15 minutes. Reason: Typical human interaction duration for a genuine booking. Action: Classify as Genuine (Low Fraud Risk).\n",
      "\n",
      "Metadata:\n",
      "  - category: Transaction Completion Time-Based Rules\n",
      "  - classification: Genuine\n",
      "  - metric: completion_time\n",
      "  - risk_level: Low\n",
      "  - rule_number: 1.0\n",
      "  - threshold_max: 15.0\n",
      "  - threshold_min: 4.0\n",
      "  - unit: minutes\n",
      "\n",
      "==================================================\n",
      "Result 3:\n",
      "==================================================\n",
      "Content: Flag transactions where completion time is between 0 to 4 minutes. Reason: Extremely fast booking completion—potential automated bot activity. Action: Classify as Fraudulent (High Fraud Risk).\n",
      "\n",
      "Metadata:\n",
      "  - category: Transaction Completion Time-Based Rules\n",
      "  - classification: Fraudulent\n",
      "  - metric: completion_time\n",
      "  - risk_level: High\n",
      "  - rule_number: 2.0\n",
      "  - threshold_max: 4.0\n",
      "  - threshold_min: 0.0\n",
      "  - unit: minutes\n",
      "\n",
      "==================================================\n",
      "Result 4:\n",
      "==================================================\n",
      "Content: Flag users whose time since last transaction is less than 3 or 4 days. Reason: High booking frequency may indicate automated ticket purchase attempts. Action: Classify as Fraudulent (High Fraud Risk).\n",
      "\n",
      "Metadata:\n",
      "  - category: Transaction Frequency-Based Rules\n",
      "  - classification: Fraudulent\n",
      "  - metric: days_since_last_transaction\n",
      "  - risk_level: High\n",
      "  - rule_number: 8.0\n",
      "  - threshold_max: 3.0\n",
      "  - unit: days\n",
      "\n",
      "==================================================\n",
      "Result 5:\n",
      "==================================================\n",
      "Content: Flag users whose time since last transaction is more than 3 or 4 days. Reason: Normal gap between bookings—typical travel planning pattern. Action: Classify as Genuine (Low Fraud Risk).\n",
      "\n",
      "Metadata:\n",
      "  - category: Transaction Frequency-Based Rules\n",
      "  - classification: Genuine\n",
      "  - metric: days_since_last_transaction\n",
      "  - risk_level: Low\n",
      "  - rule_number: 7.0\n",
      "  - threshold_min: 3.0\n",
      "  - unit: days\n",
      "\n",
      "==================================================\n",
      "Result 6:\n",
      "==================================================\n",
      "Content: Flag users whose average transaction completion time over the last 28 days is between 4 to 15 minutes. Reason: Consistent human-like behavior. Action: Classify as Genuine (Low Fraud Risk).\n",
      "\n",
      "Metadata:\n",
      "  - category: Transaction Completion Time-Based Rules\n",
      "  - classification: Genuine\n",
      "  - metric: avg_completion_time_28d\n",
      "  - risk_level: Low\n",
      "  - rule_number: 3.0\n",
      "  - threshold_max: 15.0\n",
      "  - threshold_min: 4.0\n",
      "  - time_window: 28_days\n",
      "  - unit: minutes\n",
      "\n",
      "==================================================\n",
      "Result 7:\n",
      "==================================================\n",
      "Content: Flag users with an average of 1 to 3 tickets per transaction. Reason: Normal booking size for genuine users. Action: Classify as Genuine (Low Fraud Risk).\n",
      "\n",
      "Metadata:\n",
      "  - category: Ticket Count-Based Rules\n",
      "  - classification: Genuine\n",
      "  - metric: avg_tickets_per_transaction\n",
      "  - risk_level: Low\n",
      "  - rule_number: 18.0\n",
      "  - threshold_max: 3.0\n",
      "  - threshold_min: 1.0\n"
     ]
    }
   ],
   "source": [
    "# ===========================\n",
    "# TEST 1: Basic Retriever Test\n",
    "# ===========================\n",
    "print(\"=\" * 60)\n",
    "print(\"TEST 1: Basic Retriever Test\")\n",
    "print(\"=\" * 60)\n",
    "\n",
    "test_query = \"User completed booking in 2 minutes\"\n",
    "retrieved_docs = retriever.get_relevant_documents(test_query)\n",
    "\n",
    "print(f\"\\nQuery: '{test_query}'\")\n",
    "print(f\"\\nRetrieved {len(retrieved_docs)} documents:\\n\")\n",
    "\n",
    "for i, doc in enumerate(retrieved_docs, 1):\n",
    "    print(f\"\\n{'='*50}\")\n",
    "    print(f\"Result {i}:\")\n",
    "    print(f\"{'='*50}\")\n",
    "    print(f\"Content: {doc.page_content}\")\n",
    "    print(f\"\\nMetadata:\")\n",
    "    for key, value in doc.metadata.items():\n",
    "        print(f\"  - {key}: {value}\")"
   ]
  },
  {
   "cell_type": "code",
   "execution_count": 20,
   "id": "32c85842",
   "metadata": {},
   "outputs": [
    {
     "data": {
      "text/plain": [
       "[Document(id='4b7f46aa-46a3-4d24-a4c0-fbe51e3e2a00', metadata={'source': 'data\\\\Medical_book.pdf'}, page_content='GALE ENCYCLOPEDIA OF MEDICINE 226\\nAcne\\nGEM - 0001 to 0432 - A  10/22/03 1:41 PM  Page 26'),\n",
       " Document(id='1e9f42af-c161-492d-a538-65d160bb5395', metadata={'source': 'data\\\\Medical_book.pdf'}, page_content='GALE ENCYCLOPEDIA OF MEDICINE 2 25\\nAcne\\nAcne vulgaris affecting a woman’s face. Acne is the general\\nname given to a skin disorder in which the sebaceous\\nglands become inflamed. (Photograph by Biophoto Associ-\\nates, Photo Researchers, Inc. Reproduced by permission.)\\nGEM - 0001 to 0432 - A  10/22/03 1:41 PM  Page 25'),\n",
       " Document(id='7b8a2808-2418-44b2-8845-7e925158aeff', metadata={'source': 'data\\\\Medical_book.pdf'}, page_content='Acidosis see Respiratory acidosis; Renal\\ntubular acidosis; Metabolic acidosis\\nAcne\\nDefinition\\nAcne is a common skin disease characterized by\\npimples on the face, chest, and back. It occurs when the\\npores of the skin become clogged with oil, dead skin\\ncells, and bacteria.\\nDescription\\nAcne vulgaris, the medical term for common acne, is\\nthe most common skin disease. It affects nearly 17 million\\npeople in the United States. While acne can arise at any')]"
      ]
     },
     "execution_count": 20,
     "metadata": {},
     "output_type": "execute_result"
    }
   ],
   "source": [
    "retrieved_docs = retriever.invoke(\"what is Acne?\")\n",
    "retrieved_docs"
   ]
  },
  {
   "cell_type": "markdown",
   "id": "c7540255",
   "metadata": {},
   "source": [
    "ABove response is not understanding.\n",
    "Then connect the response with LLM to get a meaningful answer.\n",
    "\n",
    "### Connect with LLM"
   ]
  },
  {
   "cell_type": "code",
   "execution_count": 37,
   "id": "ac7d3284",
   "metadata": {},
   "outputs": [
    {
     "name": "stderr",
     "output_type": "stream",
     "text": [
      "c:\\Users\\Amantha\\.conda\\envs\\medibot\\lib\\site-packages\\huggingface_hub\\file_download.py:143: UserWarning: `huggingface_hub` cache-system uses symlinks by default to efficiently store duplicated files but your machine does not support them in C:\\Users\\Amantha\\.cache\\huggingface\\hub\\models--google--flan-t5-base. Caching files will still work but in a degraded version that might require more space on your disk. This warning can be disabled by setting the `HF_HUB_DISABLE_SYMLINKS_WARNING` environment variable. For more details, see https://huggingface.co/docs/huggingface_hub/how-to-cache#limitations.\n",
      "To support symlinks on Windows, you either need to activate Developer Mode or to run Python as an administrator. In order to activate developer mode, see this article: https://docs.microsoft.com/en-us/windows/apps/get-started/enable-your-device-for-development\n",
      "  warnings.warn(message)\n",
      "Xet Storage is enabled for this repo, but the 'hf_xet' package is not installed. Falling back to regular HTTP download. For better performance, install the package with: `pip install huggingface_hub[hf_xet]` or `pip install hf_xet`\n",
      "Xet Storage is enabled for this repo, but the 'hf_xet' package is not installed. Falling back to regular HTTP download. For better performance, install the package with: `pip install huggingface_hub[hf_xet]` or `pip install hf_xet`\n",
      "Device set to use cpu\n",
      "C:\\Users\\Amantha\\AppData\\Local\\Temp\\ipykernel_13892\\2088109652.py:5: LangChainDeprecationWarning: The class `HuggingFacePipeline` was deprecated in LangChain 0.0.37 and will be removed in 1.0. An updated version of the class exists in the :class:`~langchain-huggingface package and should be used instead. To use it run `pip install -U :class:`~langchain-huggingface` and import as `from :class:`~langchain_huggingface import HuggingFacePipeline``.\n",
      "  llm = HuggingFacePipeline(pipeline=generator)\n"
     ]
    }
   ],
   "source": [
    "from transformers import pipeline\n",
    "from langchain.llms import HuggingFacePipeline\n",
    "\n",
    "generator = pipeline(\"text2text-generation\", model=\"google/flan-t5-base\")\n",
    "llm = HuggingFacePipeline(pipeline=generator)"
   ]
  },
  {
   "cell_type": "code",
   "execution_count": 26,
   "id": "a264c128",
   "metadata": {},
   "outputs": [],
   "source": [
    "from langchain.chains import create_retrieval_chain\n",
    "from langchain.chains.combine_documents import create_stuff_documents_chain\n",
    "from langchain_core.prompts import ChatPromptTemplate"
   ]
  },
  {
   "cell_type": "code",
   "execution_count": null,
   "id": "5acf5eef",
   "metadata": {},
   "outputs": [
    {
     "ename": "NameError",
     "evalue": "name 'ChatPromptTemplate' is not defined",
     "output_type": "error",
     "traceback": [
      "\u001b[1;31m---------------------------------------------------------------------------\u001b[0m",
      "\u001b[1;31mNameError\u001b[0m                                 Traceback (most recent call last)",
      "Cell \u001b[1;32mIn[32], line 47\u001b[0m\n\u001b[0;32m      1\u001b[0m \u001b[38;5;66;03m# system_prompt = (\u001b[39;00m\n\u001b[0;32m      2\u001b[0m \u001b[38;5;66;03m#     \"You are an Medical assistant for question-answering tasks. \"\u001b[39;00m\n\u001b[0;32m      3\u001b[0m \u001b[38;5;66;03m#     \"Use the following prices of retrieved context to answer \"\u001b[39;00m\n\u001b[1;32m   (...)\u001b[0m\n\u001b[0;32m     15\u001b[0m \u001b[38;5;66;03m#     ]\u001b[39;00m\n\u001b[0;32m     16\u001b[0m \u001b[38;5;66;03m# )\u001b[39;00m\n\u001b[0;32m     18\u001b[0m system_prompt \u001b[38;5;241m=\u001b[39m (\n\u001b[0;32m     19\u001b[0m     \u001b[38;5;124m\"\u001b[39m\u001b[38;5;124mYou are an intelligent Fraud Detection Assistant specialized in analyzing railway e-ticketing transactions. \u001b[39m\u001b[38;5;124m\"\u001b[39m\n\u001b[0;32m     20\u001b[0m     \u001b[38;5;124m\"\u001b[39m\u001b[38;5;124mYour goal is to determine whether a user is likely **genuine or fraudulent** based strictly on the provided fraud detection rules and the user\u001b[39m\u001b[38;5;124m'\u001b[39m\u001b[38;5;124ms transaction data.\u001b[39m\u001b[38;5;130;01m\\n\u001b[39;00m\u001b[38;5;130;01m\\n\u001b[39;00m\u001b[38;5;124m\"\u001b[39m\n\u001b[1;32m   (...)\u001b[0m\n\u001b[0;32m     44\u001b[0m     \u001b[38;5;124m\"\u001b[39m\u001b[38;5;132;01m{context}\u001b[39;00m\u001b[38;5;124m\"\u001b[39m\n\u001b[0;32m     45\u001b[0m )\n\u001b[1;32m---> 47\u001b[0m prompt \u001b[38;5;241m=\u001b[39m \u001b[43mChatPromptTemplate\u001b[49m\u001b[38;5;241m.\u001b[39mfrom_messages([\n\u001b[0;32m     48\u001b[0m     (\u001b[38;5;124m\"\u001b[39m\u001b[38;5;124msystem\u001b[39m\u001b[38;5;124m\"\u001b[39m, system_prompt),\n\u001b[0;32m     49\u001b[0m     (\u001b[38;5;124m\"\u001b[39m\u001b[38;5;124mhuman\u001b[39m\u001b[38;5;124m\"\u001b[39m, \u001b[38;5;124m\"\u001b[39m\u001b[38;5;124mHere is the user\u001b[39m\u001b[38;5;124m'\u001b[39m\u001b[38;5;124ms transaction data:\u001b[39m\u001b[38;5;130;01m\\n\u001b[39;00m\u001b[38;5;132;01m{input}\u001b[39;00m\u001b[38;5;130;01m\\n\u001b[39;00m\u001b[38;5;130;01m\\n\u001b[39;00m\u001b[38;5;124mBased on the rules above, analyze this user and provide your prediction.\u001b[39m\u001b[38;5;124m\"\u001b[39m)\n\u001b[0;32m     50\u001b[0m ])\n",
      "\u001b[1;31mNameError\u001b[0m: name 'ChatPromptTemplate' is not defined"
     ]
    }
   ],
   "source": [
    "system_prompt = (\n",
    "    \"You are an Medical assistant for question-answering tasks. \"\n",
    "    \"Use the following prices of retrieved context to answer \"\n",
    "    \"the question. If you don't know the answer, say that you \"\n",
    "    \"don't know. Use three sentences maximum and keep the \"\n",
    "    \"answer concise.\"\n",
    "    \"\\n\\n\"\n",
    "    \"{context}\"\n",
    ")\n",
    "\n",
    "prompt = ChatPromptTemplate.from_messages(\n",
    "    [\n",
    "        (\"system\", system_prompt),\n",
    "        (\"human\", \"{input}\")\n",
    "    ]\n",
    ")"
   ]
  },
  {
   "cell_type": "code",
   "execution_count": 31,
   "id": "1ea52a78",
   "metadata": {},
   "outputs": [
    {
     "ename": "NameError",
     "evalue": "name 'create_stuff_documents_chain' is not defined",
     "output_type": "error",
     "traceback": [
      "\u001b[1;31m---------------------------------------------------------------------------\u001b[0m",
      "\u001b[1;31mNameError\u001b[0m                                 Traceback (most recent call last)",
      "Cell \u001b[1;32mIn[31], line 1\u001b[0m\n\u001b[1;32m----> 1\u001b[0m question_answer_chain \u001b[38;5;241m=\u001b[39m \u001b[43mcreate_stuff_documents_chain\u001b[49m(llm, prompt)\n\u001b[0;32m      2\u001b[0m rag_chain \u001b[38;5;241m=\u001b[39m create_retrieval_chain(retriever, question_answer_chain)\n",
      "\u001b[1;31mNameError\u001b[0m: name 'create_stuff_documents_chain' is not defined"
     ]
    }
   ],
   "source": [
    "question_answer_chain = create_stuff_documents_chain(llm, prompt)\n",
    "rag_chain = create_retrieval_chain(retriever, question_answer_chain)"
   ]
  },
  {
   "cell_type": "code",
   "execution_count": 39,
   "id": "8a3039c6",
   "metadata": {},
   "outputs": [
    {
     "name": "stdout",
     "output_type": "stream",
     "text": [
      "Acromegaly is a disorder in which the abnormal release of a particular chemical from the pituitary gland in the brain causes increased growth in bone and soft tis- sue, as well as a variety of other disturbances throughout the body.\n"
     ]
    }
   ],
   "source": [
    "response = rag_chain.invoke({\"input\": \"what is Acromegaly and gigantism?\"})\n",
    "print(response[\"answer\"])"
   ]
  },
  {
   "cell_type": "code",
   "execution_count": 40,
   "id": "8a83d4ff",
   "metadata": {},
   "outputs": [
    {
     "name": "stdout",
     "output_type": "stream",
     "text": [
      "a skin disorder in which the sebaceous glands become inflamed\n"
     ]
    }
   ],
   "source": [
    "response = rag_chain.invoke({\"input\": \"what is Acne?\"})\n",
    "print(response[\"answer\"])"
   ]
  },
  {
   "cell_type": "code",
   "execution_count": 41,
   "id": "7d15ca97",
   "metadata": {},
   "outputs": [
    {
     "name": "stdout",
     "output_type": "stream",
     "text": [
      "reducing the formation of new comedones with topical tretinoin, benzoyl peroxide, ada- palene, or salicylic acid\n"
     ]
    }
   ],
   "source": [
    "response = rag_chain.invoke({\"input\": \"what is the Treatment of Acne?\"})\n",
    "print(response[\"answer\"])"
   ]
  },
  {
   "cell_type": "code",
   "execution_count": null,
   "id": "1e86d272",
   "metadata": {},
   "outputs": [],
   "source": []
  }
 ],
 "metadata": {
  "kernelspec": {
   "display_name": "medibot",
   "language": "python",
   "name": "python3"
  },
  "language_info": {
   "codemirror_mode": {
    "name": "ipython",
    "version": 3
   },
   "file_extension": ".py",
   "mimetype": "text/x-python",
   "name": "python",
   "nbconvert_exporter": "python",
   "pygments_lexer": "ipython3",
   "version": "3.10.18"
  }
 },
 "nbformat": 4,
 "nbformat_minor": 5
}
